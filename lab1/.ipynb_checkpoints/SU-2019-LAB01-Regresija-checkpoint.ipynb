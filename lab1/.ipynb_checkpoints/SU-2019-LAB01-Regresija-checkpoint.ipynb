{
 "cells": [
  {
   "cell_type": "markdown",
   "metadata": {},
   "source": [
    "Sveučilište u Zagrebu  \n",
    "Fakultet elektrotehnike i računarstva  \n",
    "  \n",
    "## Strojno učenje 2019/2020  \n",
    "http://www.fer.unizg.hr/predmet/su"
   ]
  },
  {
   "cell_type": "markdown",
   "metadata": {},
   "source": [
    "------------------------------\n",
    "\n",
    "### Laboratorijska vježba 1: Regresija\n",
    "\n",
    "*Verzija: 1.2  \n",
    "Zadnji put ažurirano: 27. rujna 2019.*\n",
    "\n",
    "(c) 2015-2019 Jan Šnajder, Domagoj Alagić \n",
    "\n",
    "Objavljeno: **30. rujna 2019.**  \n",
    "Rok za predaju: **21. listopada 2019. u 07:00h**\n",
    "\n",
    "------------------------------"
   ]
  },
  {
   "cell_type": "markdown",
   "metadata": {},
   "source": [
    "### Upute\n",
    "\n",
    "Prva laboratorijska vježba sastoji se od deset zadataka. U nastavku slijedite upute navedene u ćelijama s tekstom. Rješavanje vježbe svodi se na **dopunjavanje ove bilježnice**: umetanja ćelije ili više njih **ispod** teksta zadatka, pisanja odgovarajućeg kôda te evaluiranja ćelija. \n",
    "\n",
    "Osigurajte da u potpunosti **razumijete** kôd koji ste napisali. Kod predaje vježbe, morate biti u stanju na zahtjev asistenta (ili demonstratora) preinačiti i ponovno evaluirati Vaš kôd. Nadalje, morate razumjeti teorijske osnove onoga što radite, u okvirima onoga što smo obradili na predavanju. Ispod nekih zadataka možete naći i pitanja koja služe kao smjernice za bolje razumijevanje gradiva (**nemojte pisati** odgovore na pitanja u bilježnicu). Stoga se nemojte ograničiti samo na to da riješite zadatak, nego slobodno eksperimentirajte. To upravo i jest svrha ovih vježbi.\n",
    "\n",
    "Vježbe trebate raditi **samostalno**. Možete se konzultirati s drugima o načelnom načinu rješavanja, ali u konačnici morate sami odraditi vježbu. U protivnome vježba nema smisla."
   ]
  },
  {
   "cell_type": "code",
   "execution_count": 2,
   "metadata": {},
   "outputs": [
    {
     "name": "stdout",
     "output_type": "stream",
     "text": [
      "Populating the interactive namespace from numpy and matplotlib\n"
     ]
    }
   ],
   "source": [
    "# Učitaj osnovne biblioteke...\n",
    "import numpy as np\n",
    "import sklearn\n",
    "import matplotlib.pyplot as plt\n",
    "%pylab inline"
   ]
  },
  {
   "cell_type": "markdown",
   "metadata": {},
   "source": [
    "## Zadatci"
   ]
  },
  {
   "cell_type": "markdown",
   "metadata": {},
   "source": [
    "### 1. Jednostavna regresija"
   ]
  },
  {
   "cell_type": "markdown",
   "metadata": {},
   "source": [
    "Zadan je skup primjera $\\mathcal{D}=\\{(x^{(i)},y^{(i)})\\}_{i=1}^4 = \\{(0,4),(1,1),(2,2),(4,5)\\}$. Primjere predstavite matricom $\\mathbf{X}$ dimenzija $N\\times n$ (u ovom slučaju $4\\times 1$) i vektorom oznaka $\\textbf{y}$, dimenzija $N\\times 1$ (u ovom slučaju $4\\times 1$), na sljedeći način:\n"
   ]
  },
  {
   "cell_type": "code",
   "execution_count": 3,
   "metadata": {},
   "outputs": [
    {
     "name": "stdout",
     "output_type": "stream",
     "text": [
      "[[0]\n",
      " [1]\n",
      " [2]\n",
      " [4]]\n",
      "\n",
      "\n",
      "[4 1 2 5]\n"
     ]
    }
   ],
   "source": [
    "X = np.array([[0],[1],[2],[4]])\n",
    "y = np.array([4,1,2,5])\n",
    "print(X)\n",
    "print(\"\\n\")\n",
    "print(y)"
   ]
  },
  {
   "cell_type": "markdown",
   "metadata": {},
   "source": [
    "### (a)\n",
    "\n",
    "Proučite funkciju [`PolynomialFeatures`](http://scikit-learn.org/stable/modules/generated/sklearn.preprocessing.PolynomialFeatures.html) iz biblioteke `sklearn` i upotrijebite je za generiranje matrice dizajna $\\mathbf{\\Phi}$ koja ne koristi preslikavanje u prostor više dimenzije (samo će svakom primjeru biti dodane *dummy* jedinice; $m=n+1$).\n"
   ]
  },
  {
   "cell_type": "code",
   "execution_count": 4,
   "metadata": {},
   "outputs": [],
   "source": [
    "from sklearn.preprocessing import PolynomialFeatures"
   ]
  },
  {
   "cell_type": "code",
   "execution_count": 5,
   "metadata": {},
   "outputs": [
    {
     "name": "stdout",
     "output_type": "stream",
     "text": [
      "[[1. 0.]\n",
      " [1. 1.]\n",
      " [1. 2.]\n",
      " [1. 4.]]\n"
     ]
    }
   ],
   "source": [
    "X = np.array([[0],[1],[2],[4]])\n",
    "poly = PolynomialFeatures(1)\n",
    "FI = poly.fit_transform(X)\n",
    "print(FI)"
   ]
  },
  {
   "cell_type": "markdown",
   "metadata": {},
   "source": [
    "### (b)"
   ]
  },
  {
   "cell_type": "markdown",
   "metadata": {},
   "source": [
    "Upoznajte se s modulom [`linalg`](http://docs.scipy.org/doc/numpy/reference/routines.linalg.html). Izračunajte težine $\\mathbf{w}$ modela linearne regresije kao $\\mathbf{w}=(\\mathbf{\\Phi}^\\intercal\\mathbf{\\Phi})^{-1}\\mathbf{\\Phi}^\\intercal\\mathbf{y}$. Zatim se uvjerite da isti rezultat možete dobiti izračunom pseudoinverza $\\mathbf{\\Phi}^+$ matrice dizajna, tj. $\\mathbf{w}=\\mathbf{\\Phi}^+\\mathbf{y}$, korištenjem funkcije [`pinv`](http://docs.scipy.org/doc/numpy/reference/generated/numpy.linalg.pinv.html)."
   ]
  },
  {
   "cell_type": "code",
   "execution_count": 6,
   "metadata": {},
   "outputs": [],
   "source": [
    "from numpy import linalg"
   ]
  },
  {
   "cell_type": "code",
   "execution_count": 7,
   "metadata": {},
   "outputs": [
    {
     "name": "stdout",
     "output_type": "stream",
     "text": [
      "[2.2        0.45714286]\n",
      "\n",
      "[2.2        0.45714286]\n"
     ]
    }
   ],
   "source": [
    "X = np.array([[0],[1],[2],[4]])\n",
    "poly = PolynomialFeatures(1)\n",
    "FI = poly.fit_transform(X)\n",
    "FI_pseudo = inv(matmul(FI.transpose(), FI))\n",
    "w = matmul(matmul(FI_pseudo, FI.transpose()), y)\n",
    "print(\"{}\\n\".format(w))\n",
    "\n",
    "#provjera s linlang.pinv\n",
    "print(matmul(pinv(FI), y))"
   ]
  },
  {
   "cell_type": "markdown",
   "metadata": {},
   "source": [
    "Radi jasnoće, u nastavku je vektor $\\mathbf{x}$ s dodanom *dummy* jedinicom $x_0=1$ označen kao $\\tilde{\\mathbf{x}}$."
   ]
  },
  {
   "cell_type": "markdown",
   "metadata": {},
   "source": [
    "### (c)"
   ]
  },
  {
   "cell_type": "markdown",
   "metadata": {},
   "source": [
    "Prikažite primjere iz $\\mathcal{D}$ i funkciju $h(\\tilde{\\mathbf{x}})=\\mathbf{w}^\\intercal\\tilde{\\mathbf{x}}$. Izračunajte pogrešku učenja prema izrazu $E(h|\\mathcal{D})=\\frac{1}{2}\\sum_{i=1}^N(\\tilde{\\mathbf{y}}^{(i)} - h(\\tilde{\\mathbf{x}}))^2$. Možete koristiti funkciju srednje kvadratne pogreške [`mean_squared_error`]( http://scikit-learn.org/stable/modules/generated/sklearn.metrics.mean_squared_error.html) iz modula [`sklearn.metrics`](http://scikit-learn.org/stable/modules/classes.html#module-sklearn.metrics).\n",
    "\n",
    "**Q:** Gore definirana funkcija pogreške $E(h|\\mathcal{D})$ i funkcija srednje kvadratne pogreške nisu posve identične. U čemu je razlika? Koja je \"realnija\"?"
   ]
  },
  {
   "cell_type": "code",
   "execution_count": 8,
   "metadata": {},
   "outputs": [
    {
     "name": "stdout",
     "output_type": "stream",
     "text": [
      "w transponirano:\n",
      "[[2.2       ]\n",
      " [0.45714286]]\n",
      "\n",
      "X:\n",
      "[[0]\n",
      " [1]\n",
      " [2]\n",
      " [4]]\n",
      "\n",
      "h(x) = \n",
      "[2.2        2.65714286 3.11428571 4.02857143]\n"
     ]
    },
    {
     "data": {
      "text/plain": [
       "[<matplotlib.lines.Line2D at 0x7f94689d1240>]"
      ]
     },
     "execution_count": 8,
     "metadata": {},
     "output_type": "execute_result"
    },
    {
     "data": {
      "image/png": "[encoded data removed]",
      "text/plain": [
       "<Figure size 432x288 with 1 Axes>"
      ]
     },
     "metadata": {
      "needs_background": "light"
     },
     "output_type": "display_data"
    }
   ],
   "source": [
    "# x sa dummy jedinicama\n",
    "#X = np.array([[1, 0],[1, 1],[1, 2],[1, 4]])\n",
    "#treba li ovo?\n",
    "X = np.array([[0],[1],[2],[4]])\n",
    "poly = PolynomialFeatures(1)\n",
    "FI = poly.fit_transform(X)\n",
    "print(\"w transponirano:\\n{}\\n\".format(w.reshape(-1, 1)))\n",
    "print(\"X:\\n{}\\n\".format(X))\n",
    "#izracunaj h(x)\n",
    "h_x = np.dot(FI, w.transpose())\n",
    "print(\"h(x) = \\n{}\".format(h_x))\n",
    "\n",
    "plt.plot(X, 'o')\n",
    "plt.plot(h_x, 'b-')"
   ]
  },
  {
   "cell_type": "code",
   "execution_count": 9,
   "metadata": {},
   "outputs": [
    {
     "name": "stdout",
     "output_type": "stream",
     "text": [
      "4.085714285714285\n",
      "2.0428571428571427\n"
     ]
    }
   ],
   "source": [
    "from sklearn.metrics import mean_squared_error\n",
    "#izracunaj pogresku ucenja\n",
    "E = 1/2 * sum(pow((y - h_x), 2))\n",
    "print(E)\n",
    "#pomocu sklearn-a\n",
    "E = mean_squared_error(y, h_x)\n",
    "print(E)"
   ]
  },
  {
   "cell_type": "markdown",
   "metadata": {},
   "source": [
    "### (d)"
   ]
  },
  {
   "cell_type": "markdown",
   "metadata": {},
   "source": [
    "Uvjerite se da za primjere iz $\\mathcal{D}$ težine $\\mathbf{w}$ ne možemo naći rješavanjem sustava $\\mathbf{w}=\\mathbf{\\Phi}^{-1}\\mathbf{y}$, već da nam doista treba pseudoinverz.\n",
    "\n",
    "**Q:** Zašto je to slučaj? Bi li se problem mogao riješiti preslikavanjem primjera u višu dimenziju? Ako da, bi li to uvijek funkcioniralo, neovisno o skupu primjera $\\mathcal{D}$? Pokažite na primjeru."
   ]
  },
  {
   "cell_type": "code",
   "execution_count": 10,
   "metadata": {},
   "outputs": [
    {
     "name": "stdout",
     "output_type": "stream",
     "text": [
      "[[1. 0.]\n",
      " [1. 1.]\n",
      " [1. 2.]\n",
      " [1. 4.]]\n",
      "2\n",
      "Matrica FI nema inverz\n"
     ]
    }
   ],
   "source": [
    "#w = matmul(inv(FI), y) baca error jer matrica FI nema inverz\n",
    "print(FI)\n",
    "print(matrix_rank(FI))\n",
    "try:\n",
    "    matmul(inv(FI), y)\n",
    "except:\n",
    "    print(\"Matrica FI nema inverz\")"
   ]
  },
  {
   "cell_type": "markdown",
   "metadata": {},
   "source": [
    "### (e) "
   ]
  },
  {
   "cell_type": "markdown",
   "metadata": {},
   "source": [
    "Proučite klasu [`LinearRegression`](http://scikit-learn.org/stable/modules/generated/sklearn.linear_model.LinearRegression.html) iz modula [`sklearn.linear_model`](http://scikit-learn.org/stable/modules/classes.html#module-sklearn.linear_model). Uvjerite se da su težine koje izračunava ta funkcija (dostupne pomoću atributa `coef_` i `intercept_`) jednake onima koje ste izračunali gore. Izračunajte predikcije modela (metoda `predict`) i uvjerite se da je pogreška učenja identična onoj koju ste ranije izračunali."
   ]
  },
  {
   "cell_type": "code",
   "execution_count": 11,
   "metadata": {},
   "outputs": [],
   "source": [
    "from sklearn.linear_model import LinearRegression"
   ]
  },
  {
   "cell_type": "code",
   "execution_count": 12,
   "metadata": {},
   "outputs": [
    {
     "name": "stdout",
     "output_type": "stream",
     "text": [
      "\n",
      "koeficijenti regresije:\n",
      "[0.45714286]\n",
      "pomak:\n",
      "2.2\n",
      "\n",
      "y predicted:\n",
      "[2.2        2.65714286 3.11428571 4.02857143]\n",
      "\n",
      "pogreška:\n",
      "4.085714285714286\n"
     ]
    }
   ],
   "source": [
    "X = np.array([[0],[1],[2],[4]])\n",
    "y = np.array([4,1,2,5])\n",
    "regression = LinearRegression().fit(X, y)\n",
    "print(\"\\nkoeficijenti regresije:\\n{}\".format(regression.coef_))\n",
    "print(\"pomak:\\n{}\".format(regression.intercept_))\n",
    "y_predicted = regression.predict(X)\n",
    "print(\"\\ny predicted:\\n{}\".format(y_predicted))\n",
    "E = 1/2 * sum(pow(y - y_predicted, 2))\n",
    "print(\"\\npogreška:\\n{}\".format(E))"
   ]
  },
  {
   "cell_type": "markdown",
   "metadata": {},
   "source": [
    "### 2. Polinomijalna regresija i utjecaj šuma"
   ]
  },
  {
   "cell_type": "markdown",
   "metadata": {},
   "source": [
    "### (a)\n",
    "\n",
    "Razmotrimo sada regresiju na većem broju primjera. Definirajte funkciju `make_labels(X, f, noise=0)` koja uzima matricu neoznačenih primjera $\\mathbf{X}_{N\\times n}$ te generira vektor njihovih oznaka $\\mathbf{y}_{N\\times 1}$. Oznake se generiraju kao $y^{(i)} = f(x^{(i)})+\\mathcal{N}(0,\\sigma^2)$, gdje je $f:\\mathbb{R}^n\\to\\mathbb{R}$ stvarna funkcija koja je generirala podatke (koja nam je u stvarnosti nepoznata), a $\\sigma$ je standardna devijacija Gaussovog šuma, definirana parametrom `noise`. Za generiranje šuma možete koristiti funkciju [`numpy.random.normal`](https://docs.scipy.org/doc/numpy-1.15.0/reference/generated/numpy.random.normal.html). \n",
    "\n",
    "Generirajte skup za učenje od $N=50$ primjera uniformno distribuiranih u intervalu $[-5,5]$ pomoću funkcije $f(x) = 5 + x -2 x^2 -5 x^3$ uz šum  $\\sigma=200$:"
   ]
  },
  {
   "cell_type": "code",
   "execution_count": 13,
   "metadata": {},
   "outputs": [],
   "source": [
    "from numpy.random import normal\n",
    "\n",
    "def make_labels(X, f, noise=0) :\n",
    "    y = []\n",
    "    for i in range(0, np.shape(X)[0]):\n",
    "        y.append(f(X[i])+normal(scale = noise))\n",
    "    return np.array(y)\n",
    "def f(x):\n",
    "    return 5 + x - 2*pow(x,2) - 5*pow(x,3)"
   ]
  },
  {
   "cell_type": "code",
   "execution_count": 14,
   "metadata": {},
   "outputs": [],
   "source": [
    "def make_instances(x1, x2, N) :\n",
    "    return np.array([np.array([x]) for x in np.linspace(x1,x2,N)])\n",
    "X = make_instances(-5, 5, 50)\n",
    "y = make_labels(X, f, 200)"
   ]
  },
  {
   "cell_type": "markdown",
   "metadata": {},
   "source": [
    "Prikažite taj skup funkcijom [`scatter`](http://matplotlib.org/api/pyplot_api.html#matplotlib.pyplot.scatter)."
   ]
  },
  {
   "cell_type": "code",
   "execution_count": 15,
   "metadata": {},
   "outputs": [
    {
     "data": {
      "text/plain": [
       "<matplotlib.collections.PathCollection at 0x7f9467dfec88>"
      ]
     },
     "execution_count": 15,
     "metadata": {},
     "output_type": "execute_result"
    },
    {
     "data": {
      "image/png": "[encoded data removed]",
      "text/plain": [
       "<Figure size 432x288 with 1 Axes>"
      ]
     },
     "metadata": {
      "needs_background": "light"
     },
     "output_type": "display_data"
    }
   ],
   "source": [
    "plt.scatter(X, y)"
   ]
  },
  {
   "cell_type": "markdown",
   "metadata": {},
   "source": [
    "### (b)"
   ]
  },
  {
   "cell_type": "markdown",
   "metadata": {},
   "source": [
    "Trenirajte model polinomijalne regresije stupnja $d=3$. Na istom grafikonu prikažite naučeni model $h(\\mathbf{x})=\\mathbf{w}^\\intercal\\tilde{\\mathbf{x}}$ i primjere za učenje. Izračunajte pogrešku učenja modela."
   ]
  },
  {
   "cell_type": "code",
   "execution_count": 16,
   "metadata": {},
   "outputs": [
    {
     "name": "stdout",
     "output_type": "stream",
     "text": [
      "30083.612062667413\n"
     ]
    },
    {
     "data": {
      "image/png": "[encoded data removed]",
      "text/plain": [
       "<Figure size 432x288 with 1 Axes>"
      ]
     },
     "metadata": {
      "needs_background": "light"
     },
     "output_type": "display_data"
    }
   ],
   "source": [
    "# Vaš kôd ovdje\n",
    "poly = PolynomialFeatures(3)\n",
    "FI = poly.fit_transform(X)\n",
    "#print(FI)\n",
    "\n",
    "FI_pseudo = inv(matmul(FI.transpose(), FI))\n",
    "w = matmul(matmul(FI_pseudo, FI.transpose()), y)\n",
    "#print(w)\n",
    "\n",
    "h_x = np.dot(FI, w)\n",
    "#print(h_x)\n",
    "\n",
    "E = mean_squared_error(y, h_x)\n",
    "print(E)\n",
    "\n",
    "plt.scatter(X, y)\n",
    "plt.plot(X, h_x, 'y-')\n",
    "show()"
   ]
  },
  {
   "cell_type": "markdown",
   "metadata": {},
   "source": [
    "### 3. Odabir modela"
   ]
  },
  {
   "cell_type": "markdown",
   "metadata": {},
   "source": [
    "### (a)\n",
    "\n",
    "Na skupu podataka iz zadatka 2 trenirajte pet modela linearne regresije $\\mathcal{H}_d$ različite složenosti, gdje je $d$ stupanj polinoma, $d\\in\\{1,3,5,10,20\\}$. Prikažite na istome grafikonu skup za učenje i funkcije $h_d(\\mathbf{x})$ za svih pet modela (preporučujemo koristiti `plot` unutar `for` petlje). Izračunajte pogrešku učenja svakog od modela.\n",
    "\n",
    "**Q:** Koji model ima najmanju pogrešku učenja i zašto?"
   ]
  },
  {
   "cell_type": "code",
   "execution_count": 17,
   "metadata": {},
   "outputs": [
    {
     "name": "stdout",
     "output_type": "stream",
     "text": [
      "Pogreška modela d=1 iznosi 58924.26677529234\n",
      "\n",
      "Pogreška modela d=3 iznosi 34151.296393359946\n",
      "\n",
      "Pogreška modela d=5 iznosi 33243.760420886174\n",
      "\n",
      "Pogreška modela d=10 iznosi 30025.68915783778\n",
      "\n",
      "Pogreška modela d=20 iznosi 17171.950150240158\n",
      "\n"
     ]
    },
    {
     "data": {
      "image/png": "[encoded data removed]",
      "text/plain": [
       "<Figure size 432x288 with 1 Axes>"
      ]
     },
     "metadata": {
      "needs_background": "light"
     },
     "output_type": "display_data"
    }
   ],
   "source": [
    "X = make_instances(-5, 5, 50)\n",
    "y = make_labels(X, f, 200)\n",
    "boje = ['y', 'r', 'g', 'b', 'k']\n",
    "for i,j in ((1,0),(3,1),(5,2),(10,3),(20,4)):\n",
    "    poly = PolynomialFeatures(i)\n",
    "    FI = poly.fit_transform(X)\n",
    "    \n",
    "    FI_pseudo = inv(matmul(FI.transpose(), FI))\n",
    "    w = matmul(matmul(FI_pseudo, FI.transpose()), y)\n",
    "    #print(w)\n",
    "\n",
    "    h_x = np.dot(FI, w)\n",
    "    #print(h_x)\n",
    "\n",
    "    E = mean_squared_error(y, h_x)\n",
    "    print(\"Pogreška modela d={} iznosi {}\\n\".format(i,E))\n",
    "    \n",
    "    plt.plot(X, h_x, boje[j]+'-')\n",
    "plt.scatter(X, y)\n",
    "show()"
   ]
  },
  {
   "cell_type": "markdown",
   "metadata": {},
   "source": [
    "### (b)"
   ]
  },
  {
   "cell_type": "markdown",
   "metadata": {},
   "source": [
    "Razdvojite skup primjera iz zadatka 2 pomoću funkcije [`model_selection.train_test_split`](https://scikit-learn.org/stable/modules/generated/sklearn.model_selection.train_test_split.html) na skup za učenja i skup za ispitivanje u omjeru 1:1. Prikažite na jednom grafikonu pogrešku učenja i ispitnu pogrešku za modele polinomijalne regresije $\\mathcal{H}_d$, sa stupnjem polinoma $d$ u rasponu $d\\in [1,2,\\ldots,20]$. Budući da kvadratna pogreška brzo raste za veće stupnjeve polinoma, umjesto da iscrtate izravno iznose pogrešaka, iscrtajte njihove logaritme.\n",
    "\n",
    "**NB:** Podjela na skupa za učenje i skup za ispitivanje mora za svih pet modela biti identična.\n",
    "\n",
    "**Q:** Je li rezultat u skladu s očekivanjima? Koji biste model odabrali i zašto?\n",
    "\n",
    "**Q:** Pokrenite iscrtavanje više puta. U čemu je problem? Bi li problem bio jednako izražen kad bismo imali više primjera? Zašto?"
   ]
  },
  {
   "cell_type": "code",
   "execution_count": 18,
   "metadata": {},
   "outputs": [],
   "source": [
    "from sklearn.model_selection import train_test_split"
   ]
  },
  {
   "cell_type": "code",
   "execution_count": 19,
   "metadata": {},
   "outputs": [
    {
     "name": "stdout",
     "output_type": "stream",
     "text": [
      "Pogreška učenja modela d=1 iznosi 11.041749628296566\n",
      "\n",
      "Pogreška ispitivanja modela d=1 iznosi 11.296252815732956\n",
      "\n",
      "Pogreška učenja modela d=2 iznosi 10.969294897567611\n",
      "\n",
      "Pogreška ispitivanja modela d=2 iznosi 11.41367281378436\n",
      "\n",
      "Pogreška učenja modela d=3 iznosi 10.965868279170977\n",
      "\n",
      "Pogreška ispitivanja modela d=3 iznosi 11.292701205713024\n",
      "\n",
      "Pogreška učenja modela d=4 iznosi 10.954469774654529\n",
      "\n",
      "Pogreška ispitivanja modela d=4 iznosi 11.527769644666165\n",
      "\n",
      "Pogreška učenja modela d=5 iznosi 10.918517860602236\n",
      "\n",
      "Pogreška ispitivanja modela d=5 iznosi 10.924570208248007\n",
      "\n",
      "Pogreška učenja modela d=6 iznosi 10.889174265474242\n",
      "\n",
      "Pogreška ispitivanja modela d=6 iznosi 12.10862733347174\n",
      "\n",
      "Pogreška učenja modela d=7 iznosi 10.8869245270139\n",
      "\n",
      "Pogreška ispitivanja modela d=7 iznosi 11.726212850627665\n",
      "\n",
      "Pogreška učenja modela d=8 iznosi 10.886780330862157\n",
      "\n",
      "Pogreška ispitivanja modela d=8 iznosi 11.945372162845322\n",
      "\n",
      "Pogreška učenja modela d=9 iznosi 10.717551227759607\n",
      "\n",
      "Pogreška ispitivanja modela d=9 iznosi 16.287262996313718\n",
      "\n",
      "Pogreška učenja modela d=10 iznosi 10.707483286563015\n",
      "\n",
      "Pogreška ispitivanja modela d=10 iznosi 16.915624675729806\n",
      "\n",
      "Pogreška učenja modela d=11 iznosi 10.707320862185831\n",
      "\n",
      "Pogreška ispitivanja modela d=11 iznosi 16.77784347449947\n",
      "\n",
      "Pogreška učenja modela d=12 iznosi 10.56183239662615\n",
      "\n",
      "Pogreška ispitivanja modela d=12 iznosi 18.71056513761557\n",
      "\n",
      "Pogreška učenja modela d=13 iznosi 10.548318163372457\n",
      "\n",
      "Pogreška ispitivanja modela d=13 iznosi 16.75462881511914\n",
      "\n",
      "Pogreška učenja modela d=14 iznosi 10.427470178839066\n",
      "\n",
      "Pogreška ispitivanja modela d=14 iznosi 22.44470942114253\n",
      "\n",
      "Pogreška učenja modela d=15 iznosi 9.94423823677164\n",
      "\n",
      "Pogreška ispitivanja modela d=15 iznosi 25.206090541471692\n",
      "\n",
      "Pogreška učenja modela d=16 iznosi 8.844486097610098\n",
      "\n",
      "Pogreška ispitivanja modela d=16 iznosi 27.377890429318885\n",
      "\n",
      "Pogreška učenja modela d=17 iznosi 8.65012862674543\n",
      "\n",
      "Pogreška ispitivanja modela d=17 iznosi 25.770513443603267\n",
      "\n",
      "Pogreška učenja modela d=18 iznosi 8.166916571104307\n",
      "\n",
      "Pogreška ispitivanja modela d=18 iznosi 28.889776022848093\n",
      "\n",
      "Pogreška učenja modela d=19 iznosi 8.135796951817513\n",
      "\n",
      "Pogreška ispitivanja modela d=19 iznosi 27.954319466390068\n",
      "\n",
      "Pogreška učenja modela d=20 iznosi 7.229495152728691\n",
      "\n",
      "Pogreška ispitivanja modela d=20 iznosi 32.78353101920747\n",
      "\n"
     ]
    },
    {
     "data": {
      "image/png": "[encoded data removed]",
      "text/plain": [
       "<Figure size 432x288 with 1 Axes>"
      ]
     },
     "metadata": {
      "needs_background": "light"
     },
     "output_type": "display_data"
    }
   ],
   "source": [
    "X = make_instances(-5, 5, 50)\n",
    "y = make_labels(X, f, 200)\n",
    "X_train, X_test, y_train, y_test = train_test_split(X, y, test_size=0.5)\n",
    "E = []\n",
    "E_test = []\n",
    "for i in range(1,21):\n",
    "    poly = PolynomialFeatures(i)\n",
    "    FI = poly.fit_transform(X_train)\n",
    "    FI_test = poly.fit_transform(X_test)\n",
    "    \n",
    "    w = np.dot(pinv(FI), y_train)\n",
    "    \n",
    "    h_x = np.dot(FI, w)\n",
    "    h_x_test = np.dot(FI_test, w)\n",
    "\n",
    "    E.append(log(mean_squared_error(y_train, h_x)))\n",
    "    E_test.append(log(mean_squared_error(y_test, h_x_test)))\n",
    "    print(\"Pogreška učenja modela d={} iznosi {}\\n\".format(i,E[i-1]))\n",
    "    print(\"Pogreška ispitivanja modela d={} iznosi {}\\n\".format(i,E_test[i-1]))\n",
    "    \n",
    "E = np.array(E)\n",
    "E_test = np.array(E_test)\n",
    "\n",
    "plt.plot(E, 'b-')\n",
    "plt.plot(E_test, 'r-')\n",
    "show()"
   ]
  },
  {
   "cell_type": "markdown",
   "metadata": {},
   "source": [
    "### (c)"
   ]
  },
  {
   "cell_type": "markdown",
   "metadata": {},
   "source": [
    "Točnost modela ovisi o (1) njegovoj složenosti (stupanj $d$ polinoma), (2) broju primjera $N$, i (3) količini šuma. Kako biste to analizirali, nacrtajte grafikone pogrešaka kao u 3b, ali za različit $N\\in$ (trećina, dvije trećine, sve) i količine šuma $\\sigma\\in\\{100,200,500\\}$ (ukupno 9 grafikona). Upotrijebite funkciju [`subplots`](http://matplotlib.org/examples/pylab_examples/subplots_demo.html) kako biste pregledno posložili grafikone u tablicu $3\\times 3$. Podatci se generiraju na isti način kao u zadatku 2.\n",
    "\n",
    "**NB:** Pobrinite se da svi grafikoni budu generirani nad usporedivim skupovima podataka, na sljedeći način. Generirajte najprije svih 1000 primjera, podijelite ih na skupove za učenje i skupove za ispitivanje (dva skupa od po 500 primjera). Zatim i od skupa za učenje i od skupa za ispitivanje načinite tri različite verzije, svaka s drugačijom količinom šuma (ukupno 2x3=6 verzija podataka). Kako bi simulirali veličinu skupa podataka, od tih dobivenih 6 skupova podataka uzorkujte trećinu, dvije trećine i sve podatke. Time ste dobili 18 skupova podataka -- skup za učenje i za testiranje za svaki od devet grafova."
   ]
  },
  {
   "cell_type": "code",
   "execution_count": 20,
   "metadata": {},
   "outputs": [
    {
     "name": "stdout",
     "output_type": "stream",
     "text": [
      "(3,)\n"
     ]
    },
    {
     "data": {
      "image/png": "[encoded data removed]",
      "text/plain": [
       "<Figure size 432x288 with 9 Axes>"
      ]
     },
     "metadata": {
      "needs_background": "light"
     },
     "output_type": "display_data"
    }
   ],
   "source": [
    "X = make_instances(-5, 5, 1000)\n",
    "X_train, X_test = train_test_split(X, test_size=0.5)\n",
    "\n",
    "y_train1 = make_labels(X_train, f, 100)\n",
    "y_train2 = make_labels(X_train, f, 200)\n",
    "y_train3 = make_labels(X_train, f, 500)\n",
    "\n",
    "y_test1 = make_labels(X_test, f, 100)\n",
    "y_test2 = make_labels(X_test, f, 200)\n",
    "y_test3 = make_labels(X_test, f, 500)\n",
    "\n",
    "#############################################\n",
    "y_train1 = [np.split(y_train1, [int(1/3*len(y_train1))])[0], np.split(y_train1, [int(2/3*len(y_train1))])[0], y_train1]\n",
    "\n",
    "y_train2 = [np.split(y_train2, [int(1/3*len(y_train2))])[0], np.split(y_train2, [int(2/3*len(y_train2))])[0], y_train2]\n",
    "\n",
    "y_train3 = [np.split(y_train3, [int(1/3*len(y_train3))])[0], np.split(y_train3, [int(2/3*len(y_train3))])[0], y_train3]\n",
    "\n",
    "y_train = [y_train1, y_train2, y_train3]\n",
    "############################################\n",
    "y_test1 = [np.split(y_test1, [int(1/3*len(y_test1))])[0], np.split(y_test1, [int(2/3*len(y_test1))])[0], y_test1]\n",
    "\n",
    "y_test2 = [np.split(y_test2, [int(1/3*len(y_test2))])[0], np.split(y_test2, [int(2/3*len(y_test2))])[0], y_test2]\n",
    "\n",
    "y_test3 = [np.split(y_test3, [int(1/3*len(y_test3))])[0], np.split(y_test3, [int(2/3*len(y_test3))])[0], y_test3]\n",
    "\n",
    "y_test = [y_test1, y_test2, y_test3]\n",
    "############################################\n",
    "x_train = [np.split(X_train, [int(1/3*len(X_train))])[0], np.split(X_train, [int(2/3*len(X_train))])[0], X_train]\n",
    "\n",
    "x_test = [np.split(X_test, [int(1/3*len(X_test))])[0], np.split(X_test, [int(2/3*len(X_test))])[0], X_train]\n",
    "print(shape(x_train))\n",
    "############################################\n",
    "fig, axs = plt.subplots(3, 3)\n",
    "for i in range(3):\n",
    "    for j in range(3):\n",
    "        E = []\n",
    "        E_test = []\n",
    "        for k in range(1,21):\n",
    "            poly = PolynomialFeatures(k)\n",
    "            FI = poly.fit_transform(x_train[i])\n",
    "            FI_test = poly.fit_transform(x_test[i])\n",
    "\n",
    "            w = np.dot(pinv(FI), y_train[j][i])\n",
    "\n",
    "            h_x = np.dot(FI, w)\n",
    "            h_x_test = np.dot(FI_test, w)\n",
    "\n",
    "            E.append(log(mean_squared_error(y_train[j][i], h_x)))\n",
    "            E_test.append(log(mean_squared_error(y_test[j][i], h_x_test)))\n",
    "            \n",
    "            axs[i, j].plot(np.array(E), 'b-')\n",
    "            axs[i, j].plot(np.array(E_test), 'r-')\n",
    "            #print(\"Pogreška učenja modela d={} iznosi {}\\n\".format(k,E[k-1]))\n",
    "            #print(\"Pogreška ispitivanja modela d={} iznosi {}\\n\".format(k,E_test[k-1]))\n",
    "\n",
    "        E = np.array(E)\n",
    "        E_test = np.array(E_test)\n",
    "\n",
    "        #plt.plot(E, 'b-')\n",
    "        #plt.plot(E_test, 'r-')\n",
    "        #show()"
   ]
  },
  {
   "cell_type": "markdown",
   "metadata": {},
   "source": [
    "***Q:*** Jesu li rezultati očekivani? Obrazložite."
   ]
  },
  {
   "cell_type": "markdown",
   "metadata": {},
   "source": [
    "### 4. Regularizirana regresija"
   ]
  },
  {
   "cell_type": "markdown",
   "metadata": {},
   "source": [
    "### (a)\n",
    "\n",
    "U gornjim eksperimentima nismo koristili **regularizaciju**. Vratimo se najprije na primjer iz zadatka 1. Na primjerima iz tog zadatka izračunajte težine $\\mathbf{w}$ za polinomijalni regresijski model stupnja $d=3$ uz L2-regularizaciju (tzv. *ridge regression*), prema izrazu $\\mathbf{w}=(\\mathbf{\\Phi}^\\intercal\\mathbf{\\Phi}+\\lambda\\mathbf{I})^{-1}\\mathbf{\\Phi}^\\intercal\\mathbf{y}$. Napravite izračun težina za regularizacijske faktore $\\lambda=0$, $\\lambda=1$ i $\\lambda=10$ te usporedite dobivene težine.\n",
    "\n",
    "**Q:** Kojih je dimenzija matrica koju treba invertirati?\n",
    "\n",
    "**Q:** Po čemu se razlikuju dobivene težine i je li ta razlika očekivana? Obrazložite."
   ]
  },
  {
   "cell_type": "code",
   "execution_count": 21,
   "metadata": {},
   "outputs": [
    {
     "name": "stdout",
     "output_type": "stream",
     "text": [
      "[ 4.         -5.91666667  3.375      -0.45833333]\n",
      "[ 3.05696145 -0.69079365 -0.2831746   0.1445805 ]\n",
      "[ 2.49444184 -0.15897295 -0.13423067  0.0815601 ]\n"
     ]
    }
   ],
   "source": [
    "X = np.array([[0],[1],[2],[4]])\n",
    "y = np.array([4,1,2,5])\n",
    "poly = PolynomialFeatures(3)\n",
    "FI = poly.fit_transform(X)\n",
    "I = np.identity(4)\n",
    "I[0][0] = 0\n",
    "#print(FI)\n",
    "for lam in (0,1,10):\n",
    "    w = matmul(inv(matmul(FI.transpose(), FI) + np.dot(lam, I)), np.dot(FI.transpose(), y))\n",
    "    print(w)\n",
    "    #h_x = np.dot(FI, w)\n",
    "    #print(h_x)"
   ]
  },
  {
   "cell_type": "markdown",
   "metadata": {},
   "source": [
    "### (b)"
   ]
  },
  {
   "cell_type": "markdown",
   "metadata": {},
   "source": [
    "Proučite klasu [`Ridge`](http://scikit-learn.org/stable/modules/generated/sklearn.linear_model.Ridge.html#sklearn.linear_model.Ridge) iz modula [`sklearn.linear_model`](http://scikit-learn.org/stable/modules/classes.html#module-sklearn.linear_model), koja implementira L2-regularizirani regresijski model. Parametar $\\alpha$ odgovara parametru $\\lambda$. Primijenite model na istim primjerima kao u prethodnom zadatku i ispišite težine $\\mathbf{w}$ (atributi `coef_` i `intercept_`).\n",
    "\n",
    "**Q:** Jesu li težine identične onima iz zadatka 4a? Ako nisu, objasnite zašto je to tako i kako biste to popravili."
   ]
  },
  {
   "cell_type": "code",
   "execution_count": 22,
   "metadata": {},
   "outputs": [],
   "source": [
    "from sklearn.linear_model import Ridge"
   ]
  },
  {
   "cell_type": "code",
   "execution_count": 23,
   "metadata": {},
   "outputs": [
    {
     "name": "stdout",
     "output_type": "stream",
     "text": [
      "\n",
      "koeficijenti regresije:\n",
      "[ 0.         -5.91666667  3.375      -0.45833333]\n",
      "pomak:\n",
      "4.000000000000025\n",
      "\n",
      "koeficijenti regresije:\n",
      "[ 0.         -0.69079365 -0.2831746   0.1445805 ]\n",
      "pomak:\n",
      "3.0569614512471652\n",
      "\n",
      "koeficijenti regresije:\n",
      "[ 0.         -0.15897295 -0.13423067  0.0815601 ]\n",
      "pomak:\n",
      "2.4944418431229733\n"
     ]
    }
   ],
   "source": [
    "for lam in (0,1,10):\n",
    "    ridgeRegression = Ridge(lam).fit(FI,y)\n",
    "    print(\"\\nkoeficijenti regresije:\\n{}\".format(ridgeRegression.coef_))\n",
    "    print(\"pomak:\\n{}\".format(ridgeRegression.intercept_))\n",
    "    #y_predicted = ridgeRegression.predict(X)\n",
    "    #print(\"\\ny predicted:\\n{}\".format(y_predicted))\n",
    "    #E = 1/2 * sum(pow(y - y_predicted, 2))\n",
    "    #print(\"\\nočekivanje:\\n{}\".format(E))"
   ]
  },
  {
   "cell_type": "markdown",
   "metadata": {},
   "source": [
    "### 5. Regularizirana polinomijalna regresija"
   ]
  },
  {
   "cell_type": "markdown",
   "metadata": {},
   "source": [
    "### (a)\n",
    "\n",
    "Vratimo se na slučaj $N=50$ slučajno generiranih primjera iz zadatka 2. Trenirajte modele polinomijalne regresije $\\mathcal{H}_{\\lambda,d}$ za $\\lambda\\in\\{0,100\\}$ i $d\\in\\{2,10\\}$ (ukupno četiri modela). Skicirajte pripadne funkcije $h(\\mathbf{x})$ i primjere (na jednom grafikonu; preporučujemo koristiti `plot` unutar `for` petlje).\n",
    "\n",
    "**Q:** Jesu li rezultati očekivani? Obrazložite."
   ]
  },
  {
   "cell_type": "code",
   "execution_count": 24,
   "metadata": {},
   "outputs": [
    {
     "data": {
      "text/plain": [
       "<matplotlib.collections.PathCollection at 0x7f94673d1908>"
      ]
     },
     "execution_count": 24,
     "metadata": {},
     "output_type": "execute_result"
    },
    {
     "data": {
      "image/png": "[encoded data removed]",
      "text/plain": [
       "<Figure size 432x288 with 1 Axes>"
      ]
     },
     "metadata": {
      "needs_background": "light"
     },
     "output_type": "display_data"
    }
   ],
   "source": [
    "X = make_instances(-5, 5, 50)\n",
    "y = make_labels(X, f, 200)\n",
    "for lam in (0,100):\n",
    "    for d in (2,10):\n",
    "        poly = PolynomialFeatures(d)\n",
    "        FI = poly.fit_transform(X)\n",
    "        ridgeRegression = Ridge(lam).fit(FI,y)\n",
    "        y_predicted = ridgeRegression.predict(FI)\n",
    "        plt.plot(X, y_predicted)\n",
    "plt.scatter(X,y)\n"
   ]
  },
  {
   "cell_type": "markdown",
   "metadata": {},
   "source": [
    "### (b)\n",
    "\n",
    "Kao u zadataku 3b, razdvojite primjere na skup za učenje i skup za ispitivanje u omjeru 1:1. Prikažite krivulje logaritama pogreške učenja i ispitne pogreške u ovisnosti za model $\\mathcal{H}_{d=10,\\lambda}$, podešavajući faktor regularizacije $\\lambda$ u rasponu $\\lambda\\in\\{0,1,\\dots,50\\}$.\n",
    "\n",
    "**Q:** Kojoj strani na grafikonu odgovara područje prenaučenosti, a kojoj podnaučenosti? Zašto?\n",
    "\n",
    "**Q:** Koju biste vrijednosti za $\\lambda$ izabrali na temelju ovih grafikona i zašto?\n"
   ]
  },
  {
   "cell_type": "code",
   "execution_count": 152,
   "metadata": {},
   "outputs": [
    {
     "name": "stdout",
     "output_type": "stream",
     "text": [
      "[[ 1.00000000e+00 -3.16326531e+00  1.00062474e+01 -3.16524152e+01\n",
      "   1.00124987e+02 -3.16721898e+02  1.00187539e+03 -3.16919766e+03\n",
      "   1.00250130e+04 -3.17117759e+04  1.00312760e+05]\n",
      " [ 1.00000000e+00  2.14285714e+00  4.59183673e+00  9.83965015e+00\n",
      "   2.10849646e+01  4.51820670e+01  9.68187150e+01  2.07468675e+02\n",
      "   4.44575732e+02  9.52662283e+02  2.04141918e+03]\n",
      " [ 1.00000000e+00  3.97959184e+00  1.58371512e+01  6.30253976e+01\n",
      "   2.50815358e+02  9.98142750e+02  3.97220074e+03  1.58077376e+04\n",
      "   6.29083437e+04  2.50349531e+05  9.96288950e+05]\n",
      " [ 1.00000000e+00  3.36734694e+00  1.13390254e+01  3.81824325e+01\n",
      "   1.28573497e+02  4.32951572e+02  1.45789815e+03  4.90924888e+03\n",
      "   1.65311442e+04  5.56660977e+04  1.87447064e+05]\n",
      " [ 1.00000000e+00 -1.93877551e+00  3.75885048e+00 -7.28756726e+00\n",
      "   1.41289569e+01 -2.73928757e+01  5.31086365e+01 -1.02965724e+02\n",
      "   1.99627424e+02 -3.87032760e+02  7.50369637e+02]\n",
      " [ 1.00000000e+00 -4.79591837e+00  2.30008330e+01 -1.10310117e+02\n",
      "   5.29038318e+02 -2.53722459e+03  1.21683220e+04 -5.83582790e+04\n",
      "   2.79881542e+05 -1.34228903e+06  6.43750860e+06]\n",
      " [ 1.00000000e+00 -4.38775510e+00  1.92523948e+01 -8.44747937e+01\n",
      "   3.70654707e+02 -1.62634208e+03  7.13599076e+03 -3.13109799e+04\n",
      "   1.37384912e+05 -6.02811347e+05  2.64498857e+06]\n",
      " [ 1.00000000e+00  9.18367347e-01  8.43398584e-01  7.74549720e-01\n",
      "   7.11321171e-01  6.53254137e-01  5.99927269e-01  5.50953614e-01\n",
      "   5.05977809e-01  4.64673498e-01  4.26740967e-01]\n",
      " [ 1.00000000e+00  2.95918367e+00  8.75676801e+00  2.59128849e+01\n",
      "   7.66809860e+01  2.26913122e+02  6.71477606e+02  1.98702557e+03\n",
      "   5.87997362e+03  1.73999219e+04  5.14895649e+04]\n",
      " [ 1.00000000e+00  2.34693878e+00  5.50812162e+00  1.29272242e+01\n",
      "   3.03394037e+01  7.12047231e+01  1.67113126e+02  3.92204274e+02\n",
      "   9.20479419e+02  2.16030884e+03  5.07011259e+03]\n",
      " [ 1.00000000e+00 -4.59183673e+00  2.10849646e+01 -9.68187150e+01\n",
      "   4.44575732e+02 -2.04141918e+03  9.37386357e+03 -4.30432511e+04\n",
      "   1.97647582e+05 -9.07565426e+05  4.16739226e+06]\n",
      " [ 1.00000000e+00  2.55102041e+00  6.50770512e+00  1.66012886e+01\n",
      "   4.23502260e+01  1.08036291e+02  2.75602782e+02  7.03068323e+02\n",
      "   1.79354164e+03  4.57536132e+03  1.16718401e+04]\n",
      " [ 1.00000000e+00 -4.18367347e+00  1.75031237e+01 -7.32273542e+01\n",
      "   3.06359339e+02 -1.28170744e+03  5.36224541e+03 -2.24338839e+04\n",
      "   9.38560447e+04 -3.92663044e+05  1.64277396e+06]\n",
      " [ 1.00000000e+00 -3.36734694e+00  1.13390254e+01 -3.81824325e+01\n",
      "   1.28573497e+02 -4.32951572e+02  1.45789815e+03 -4.90924888e+03\n",
      "   1.65311442e+04 -5.56660977e+04  1.87447064e+05]\n",
      " [ 1.00000000e+00  4.18367347e+00  1.75031237e+01  7.32273542e+01\n",
      "   3.06359339e+02  1.28170744e+03  5.36224541e+03  2.24338839e+04\n",
      "   9.38560447e+04  3.92663044e+05  1.64277396e+06]\n",
      " [ 1.00000000e+00  7.14285714e-01  5.10204082e-01  3.64431487e-01\n",
      "   2.60308205e-01  1.85934432e-01  1.32810309e-01  9.48645062e-02\n",
      "   6.77603615e-02  4.84002582e-02  3.45716130e-02]\n",
      " [ 1.00000000e+00 -2.75510204e+00  7.59058726e+00 -2.09128424e+01\n",
      "   5.76170149e+01 -1.58740755e+02  4.37346979e+02 -1.20493555e+03\n",
      "   3.31972040e+03 -9.14616846e+03  2.51986274e+04]\n",
      " [ 1.00000000e+00 -2.34693878e+00  5.50812162e+00 -1.29272242e+01\n",
      "   3.03394037e+01 -7.12047231e+01  1.67113126e+02 -3.92204274e+02\n",
      "   9.20479419e+02 -2.16030884e+03  5.07011259e+03]\n",
      " [ 1.00000000e+00 -1.32653061e+00  1.75968347e+00 -2.33427398e+00\n",
      "   3.09648590e+00 -4.10758333e+00  5.44883503e+00 -7.22804647e+00\n",
      "   9.58822492e+00 -1.27190739e+01  1.68722408e+01]\n",
      " [ 1.00000000e+00 -3.57142857e+00  1.27551020e+01 -4.55539359e+01\n",
      "   1.62692628e+02 -5.81045100e+02  2.07516107e+03 -7.41128954e+03\n",
      "   2.64688912e+04 -9.45317544e+04  3.37613409e+05]\n",
      " [ 1.00000000e+00  1.93877551e+00  3.75885048e+00  7.28756726e+00\n",
      "   1.41289569e+01  2.73928757e+01  5.31086365e+01  1.02965724e+02\n",
      "   1.99627424e+02  3.87032760e+02  7.50369637e+02]\n",
      " [ 1.00000000e+00  4.79591837e+00  2.30008330e+01  1.10310117e+02\n",
      "   5.29038318e+02  2.53722459e+03  1.21683220e+04  5.83582790e+04\n",
      "   2.79881542e+05  1.34228903e+06  6.43750860e+06]\n",
      " [ 1.00000000e+00 -1.53061224e+00  2.34277384e+00 -3.58587833e+00\n",
      "   5.48858929e+00 -8.40090197e+00  1.28585234e+01 -1.96814134e+01\n",
      "   3.01246123e+01 -4.61091005e+01  7.05751539e+01]\n",
      " [ 1.00000000e+00 -7.14285714e-01  5.10204082e-01 -3.64431487e-01\n",
      "   2.60308205e-01 -1.85934432e-01  1.32810309e-01 -9.48645062e-02\n",
      "   6.77603615e-02 -4.84002582e-02  3.45716130e-02]\n",
      " [ 1.00000000e+00  4.38775510e+00  1.92523948e+01  8.44747937e+01\n",
      "   3.70654707e+02  1.62634208e+03  7.13599076e+03  3.13109799e+04\n",
      "   1.37384912e+05  6.02811347e+05  2.64498857e+06]]\n",
      "[[ 1.00000000e+00 -3.06122449e-01  9.37109538e-02 -2.86870267e-02\n",
      "   8.78174286e-03 -2.68828863e-03  8.22945499e-04 -2.51922091e-04\n",
      "   7.71190076e-05 -2.36078595e-05  7.22689576e-06]\n",
      " [ 1.00000000e+00  4.59183673e+00  2.10849646e+01  9.68187150e+01\n",
      "   4.44575732e+02  2.04141918e+03  9.37386357e+03  4.30432511e+04\n",
      "   1.97647582e+05  9.07565426e+05  4.16739226e+06]\n",
      " [ 1.00000000e+00  5.10204082e-01  2.60308205e-01  1.32810309e-01\n",
      "   6.77603615e-02  3.45716130e-02  1.76385781e-02  8.99927453e-03\n",
      "   4.59146660e-03  2.34258500e-03  1.19519643e-03]\n",
      " [ 1.00000000e+00 -5.00000000e+00  2.50000000e+01 -1.25000000e+02\n",
      "   6.25000000e+02 -3.12500000e+03  1.56250000e+04 -7.81250000e+04\n",
      "   3.90625000e+05 -1.95312500e+06  9.76562500e+06]\n",
      " [ 1.00000000e+00 -2.14285714e+00  4.59183673e+00 -9.83965015e+00\n",
      "   2.10849646e+01 -4.51820670e+01  9.68187150e+01 -2.07468675e+02\n",
      "   4.44575732e+02 -9.52662283e+02  2.04141918e+03]\n",
      " [ 1.00000000e+00  1.73469388e+00  3.00916285e+00  5.21997637e+00\n",
      "   9.05506105e+00  1.57077590e+01  2.72481533e+01  4.72672047e+01\n",
      "   8.19941306e+01  1.42234716e+02  2.46733692e+02]\n",
      " [ 1.00000000e+00 -3.97959184e+00  1.58371512e+01 -6.30253976e+01\n",
      "   2.50815358e+02 -9.98142750e+02  3.97220074e+03 -1.58077376e+04\n",
      "   6.29083437e+04 -2.50349531e+05  9.96288950e+05]\n",
      " [ 1.00000000e+00  3.77551020e+00  1.42544773e+01  5.38179245e+01\n",
      "   2.03190123e+02  7.67146383e+02  2.89636900e+03  1.09352707e+04\n",
      "   4.12862261e+04  1.55876568e+05  5.88513573e+05]\n",
      " [ 1.00000000e+00  2.75510204e+00  7.59058726e+00  2.09128424e+01\n",
      "   5.76170149e+01  1.58740755e+02  4.37346979e+02  1.20493555e+03\n",
      "   3.31972040e+03  9.14616846e+03  2.51986274e+04]\n",
      " [ 1.00000000e+00  5.00000000e+00  2.50000000e+01  1.25000000e+02\n",
      "   6.25000000e+02  3.12500000e+03  1.56250000e+04  7.81250000e+04\n",
      "   3.90625000e+05  1.95312500e+06  9.76562500e+06]\n",
      " [ 1.00000000e+00 -2.95918367e+00  8.75676801e+00 -2.59128849e+01\n",
      "   7.66809860e+01 -2.26913122e+02  6.71477606e+02 -1.98702557e+03\n",
      "   5.87997362e+03 -1.73999219e+04  5.14895649e+04]\n",
      " [ 1.00000000e+00  3.16326531e+00  1.00062474e+01  3.16524152e+01\n",
      "   1.00124987e+02  3.16721898e+02  1.00187539e+03  3.16919766e+03\n",
      "   1.00250130e+04  3.17117759e+04  1.00312760e+05]\n",
      " [ 1.00000000e+00 -3.77551020e+00  1.42544773e+01 -5.38179245e+01\n",
      "   2.03190123e+02 -7.67146383e+02  2.89636900e+03 -1.09352707e+04\n",
      "   4.12862261e+04 -1.55876568e+05  5.88513573e+05]\n",
      " [ 1.00000000e+00 -1.12244898e+00  1.25989171e+00 -1.41416417e+00\n",
      "   1.58732713e+00 -1.78169371e+00  1.99986029e+00 -2.24474114e+00\n",
      "   2.51960740e+00 -2.82813076e+00  3.17443248e+00]\n",
      " [ 1.00000000e+00  3.57142857e+00  1.27551020e+01  4.55539359e+01\n",
      "   1.62692628e+02  5.81045100e+02  2.07516107e+03  7.41128954e+03\n",
      "   2.64688912e+04  9.45317544e+04  3.37613409e+05]\n",
      " [ 1.00000000e+00  1.53061224e+00  2.34277384e+00  3.58587833e+00\n",
      "   5.48858929e+00  8.40090197e+00  1.28585234e+01  1.96814134e+01\n",
      "   3.01246123e+01  4.61091005e+01  7.05751539e+01]\n",
      " [ 1.00000000e+00 -5.10204082e-01  2.60308205e-01 -1.32810309e-01\n",
      "   6.77603615e-02 -3.45716130e-02  1.76385781e-02 -8.99927453e-03\n",
      "   4.59146660e-03 -2.34258500e-03  1.19519643e-03]\n",
      " [ 1.00000000e+00 -9.18367347e-01  8.43398584e-01 -7.74549720e-01\n",
      "   7.11321171e-01 -6.53254137e-01  5.99927269e-01 -5.50953614e-01\n",
      "   5.05977809e-01 -4.64673498e-01  4.26740967e-01]\n",
      " [ 1.00000000e+00  3.06122449e-01  9.37109538e-02  2.86870267e-02\n",
      "   8.78174286e-03  2.68828863e-03  8.22945499e-04  2.51922091e-04\n",
      "   7.71190076e-05  2.36078595e-05  7.22689576e-06]\n",
      " [ 1.00000000e+00 -2.55102041e+00  6.50770512e+00 -1.66012886e+01\n",
      "   4.23502260e+01 -1.08036291e+02  2.75602782e+02 -7.03068323e+02\n",
      "   1.79354164e+03 -4.57536132e+03  1.16718401e+04]\n",
      " [ 1.00000000e+00  1.02040816e-01  1.04123282e-02  1.06248247e-03\n",
      "   1.08416578e-04  1.10629162e-05  1.12886900e-06  1.15190714e-07\n",
      "   1.17541545e-08  1.19940352e-09  1.22388114e-10]\n",
      " [ 1.00000000e+00 -1.02040816e-01  1.04123282e-02 -1.06248247e-03\n",
      "   1.08416578e-04 -1.10629162e-05  1.12886900e-06 -1.15190714e-07\n",
      "   1.17541545e-08 -1.19940352e-09  1.22388114e-10]\n",
      " [ 1.00000000e+00  1.12244898e+00  1.25989171e+00  1.41416417e+00\n",
      "   1.58732713e+00  1.78169371e+00  1.99986029e+00  2.24474114e+00\n",
      "   2.51960740e+00  2.82813076e+00  3.17443248e+00]\n",
      " [ 1.00000000e+00 -1.73469388e+00  3.00916285e+00 -5.21997637e+00\n",
      "   9.05506105e+00 -1.57077590e+01  2.72481533e+01 -4.72672047e+01\n",
      "   8.19941306e+01 -1.42234716e+02  2.46733692e+02]\n",
      " [ 1.00000000e+00  1.32653061e+00  1.75968347e+00  2.33427398e+00\n",
      "   3.09648590e+00  4.10758333e+00  5.44883503e+00  7.22804647e+00\n",
      "   9.58822492e+00  1.27190739e+01  1.68722408e+01]]\n"
     ]
    },
    {
     "data": {
      "image/png": "[encoded data removed]",
      "text/plain": [
       "<Figure size 432x288 with 1 Axes>"
      ]
     },
     "metadata": {
      "needs_background": "light"
     },
     "output_type": "display_data"
    }
   ],
   "source": [
    "X = make_instances(-5, 5, 50)\n",
    "y = make_labels(X, f, 100)\n",
    "X_train, X_test, y_train, y_test = train_test_split(X, y, test_size=0.5)\n",
    "E = []\n",
    "E_test = []\n",
    "poly = PolynomialFeatures(10)\n",
    "FI = poly.fit_transform(X_train)\n",
    "FI_test = poly.fit_transform(X_test)\n",
    "print(FI)\n",
    "print(FI_test)\n",
    "I = np.identity(11)\n",
    "I[0][0] = 0\n",
    "for i in range(51):\n",
    "    \n",
    "    regression = Ridge(i).fit(FI, y_train)\n",
    "    \n",
    "    y_predict = regression.predict(FI)\n",
    "    y_predict_test = regression.predict(FI_test)\n",
    "    \n",
    "    #w = matmul(inv(matmul(FI.transpose(), FI) + np.dot(lam, I)), np.dot(FI.transpose(), y_train))\n",
    "    \n",
    "    #h_x = np.dot(FI, w)\n",
    "    #h_x_test = np.dot(FI_test, w)\n",
    "\n",
    "    #E.append(log(mean_squared_error(y_train, h_x)))\n",
    "    #E_test.append(log(mean_squared_error(y_test, h_x_test)))\n",
    "    \n",
    "    E.append(log(mean_squared_error(y_train, y_predict)))\n",
    "    E_test.append(log(mean_squared_error(y_test, y_predict_test)))\n",
    "    \n",
    "E = np.array(E)\n",
    "E_test = np.array(E_test)\n",
    "\n",
    "plt.plot(E, 'b-')\n",
    "plt.plot(E_test, 'r-')\n",
    "show()"
   ]
  },
  {
   "cell_type": "markdown",
   "metadata": {},
   "source": [
    "### 6. L1-regularizacija i L2-regularizacija"
   ]
  },
  {
   "cell_type": "markdown",
   "metadata": {},
   "source": [
    "Svrha regularizacije jest potiskivanje težina modela $\\mathbf{w}$ prema nuli, kako bi model bio što jednostavniji. Složenost modela može se okarakterizirati normom pripadnog vektora težina $\\mathbf{w}$, i to tipično L2-normom ili L1-normom. Za jednom trenirani model možemo izračunati i broj ne-nul značajki, ili L0-normu, pomoću sljedeće funkcije koja prima vektor težina $\\mathbf{w}$:"
   ]
  },
  {
   "cell_type": "code",
   "execution_count": 39,
   "metadata": {},
   "outputs": [],
   "source": [
    "def nonzeroes(coef, tol=1e-6): \n",
    "    return len(coef) - len(coef[np.isclose(0, coef, atol=tol)])"
   ]
  },
  {
   "cell_type": "markdown",
   "metadata": {},
   "source": [
    "### (a)\n",
    "\n",
    "Za ovaj zadatak upotrijebite skup za učenje i skup za testiranje iz zadatka 3b. Trenirajte modele **L2-regularizirane** polinomijalne regresije stupnja $d=10$, mijenjajući hiperparametar $\\lambda$ u rasponu $\\{1,2,\\dots,100\\}$. Za svaki od treniranih modela izračunajte L{0,1,2}-norme vektora težina $\\mathbf{w}$ te ih prikažite kao funkciju od $\\lambda$. Pripazite što točno šaljete u funkciju za izračun normi.\n",
    "\n",
    "**Q:** Objasnite oblik obiju krivulja. Hoće li krivulja za $\\|\\mathbf{w}\\|_2$ doseći nulu? Zašto? Je li to problem? Zašto?\n",
    "\n",
    "**Q:** Za $\\lambda=100$, koliki je postotak težina modela jednak nuli, odnosno koliko je model rijedak?"
   ]
  },
  {
   "cell_type": "code",
   "execution_count": 110,
   "metadata": {},
   "outputs": [
    {
     "data": {
      "text/plain": [
       "<matplotlib.legend.Legend at 0x7f9462421f60>"
      ]
     },
     "execution_count": 110,
     "metadata": {},
     "output_type": "execute_result"
    },
    {
     "data": {
      "image/png": "[encoded data removed]",
      "text/plain": [
       "<Figure size 432x288 with 1 Axes>"
      ]
     },
     "metadata": {
      "needs_background": "light"
     },
     "output_type": "display_data"
    }
   ],
   "source": [
    "X = make_instances(-5, 5, 50)\n",
    "y = make_labels(X, f, 200)\n",
    "\n",
    "X_train, X_test, y_train, y_test = train_test_split(X, y, test_size=0.5)\n",
    "poly = PolynomialFeatures(10)\n",
    "FI = poly.fit_transform(X_train)\n",
    "FI_test = poly.fit_transform(X_test)\n",
    "\n",
    "I = np.identity(11)\n",
    "I[0][0] = 0\n",
    "\n",
    "L0 = []\n",
    "L1 = []\n",
    "L2 = []\n",
    "\n",
    "def L2Regularizacija(w):\n",
    "    w2 = matmul(w.transpose(), w)\n",
    "    L2_1 = []\n",
    "    for s in w2:\n",
    "        L2_1.append(s[0])\n",
    "    return pow(np.array(L2_1), 1/2)\n",
    "\n",
    "def L1Regularizacija(w):\n",
    "    return sum(abs(w)) - w[0]\n",
    "    \n",
    "for lam in range(1, 101):\n",
    "    w = matmul(inv(matmul(FI.transpose(), FI) + np.dot(lam, I)), np.dot(FI.transpose(), y_train))\n",
    "    L0.append(nonzeroes(w))\n",
    "    L1.append(L1Regularizacija(w))\n",
    "    L2.append(L2Regularizacija(w))\n",
    "\n",
    "plt.plot(np.array(L0), label = \"L0\")\n",
    "plt.plot(np.array(L1), label = \"L1\")\n",
    "plt.plot(np.array(L2), label = \"L2\")\n",
    "plt.legend()"
   ]
  },
  {
   "cell_type": "markdown",
   "metadata": {},
   "source": [
    "### (b)"
   ]
  },
  {
   "cell_type": "markdown",
   "metadata": {},
   "source": [
    "Glavna prednost L1-regularizirane regresije (ili *LASSO regression*) nad L2-regulariziranom regresijom jest u tome što L1-regularizirana regresija rezultira **rijetkim modelima** (engl. *sparse models*), odnosno modelima kod kojih su mnoge težine pritegnute na nulu. Pokažite da je to doista tako, ponovivši gornji eksperiment s **L1-regulariziranom** regresijom, implementiranom u klasi  [`Lasso`](http://scikit-learn.org/stable/modules/generated/sklearn.linear_model.Lasso.html) u modulu [`sklearn.linear_model`](http://scikit-learn.org/stable/modules/classes.html#module-sklearn.linear_model). Zanemarite upozorenja."
   ]
  },
  {
   "cell_type": "code",
   "execution_count": 125,
   "metadata": {},
   "outputs": [
    {
     "name": "stderr",
     "output_type": "stream",
     "text": [
      "/home/user/anaconda3/lib/python3.7/site-packages/sklearn/linear_model/coordinate_descent.py:492: ConvergenceWarning: Objective did not converge. You might want to increase the number of iterations. Fitting data with very small alpha may cause precision problems.\n",
      "  ConvergenceWarning)\n",
      "/home/user/anaconda3/lib/python3.7/site-packages/sklearn/linear_model/coordinate_descent.py:492: ConvergenceWarning: Objective did not converge. You might want to increase the number of iterations. Fitting data with very small alpha may cause precision problems.\n",
      "  ConvergenceWarning)\n",
      "/home/user/anaconda3/lib/python3.7/site-packages/sklearn/linear_model/coordinate_descent.py:492: ConvergenceWarning: Objective did not converge. You might want to increase the number of iterations. Fitting data with very small alpha may cause precision problems.\n",
      "  ConvergenceWarning)\n",
      "/home/user/anaconda3/lib/python3.7/site-packages/sklearn/linear_model/coordinate_descent.py:492: ConvergenceWarning: Objective did not converge. You might want to increase the number of iterations. Fitting data with very small alpha may cause precision problems.\n",
      "  ConvergenceWarning)\n",
      "/home/user/anaconda3/lib/python3.7/site-packages/sklearn/linear_model/coordinate_descent.py:492: ConvergenceWarning: Objective did not converge. You might want to increase the number of iterations. Fitting data with very small alpha may cause precision problems.\n",
      "  ConvergenceWarning)\n",
      "/home/user/anaconda3/lib/python3.7/site-packages/sklearn/linear_model/coordinate_descent.py:492: ConvergenceWarning: Objective did not converge. You might want to increase the number of iterations. Fitting data with very small alpha may cause precision problems.\n",
      "  ConvergenceWarning)\n",
      "/home/user/anaconda3/lib/python3.7/site-packages/sklearn/linear_model/coordinate_descent.py:492: ConvergenceWarning: Objective did not converge. You might want to increase the number of iterations. Fitting data with very small alpha may cause precision problems.\n",
      "  ConvergenceWarning)\n",
      "/home/user/anaconda3/lib/python3.7/site-packages/sklearn/linear_model/coordinate_descent.py:492: ConvergenceWarning: Objective did not converge. You might want to increase the number of iterations. Fitting data with very small alpha may cause precision problems.\n",
      "  ConvergenceWarning)\n",
      "/home/user/anaconda3/lib/python3.7/site-packages/sklearn/linear_model/coordinate_descent.py:492: ConvergenceWarning: Objective did not converge. You might want to increase the number of iterations. Fitting data with very small alpha may cause precision problems.\n",
      "  ConvergenceWarning)\n",
      "/home/user/anaconda3/lib/python3.7/site-packages/sklearn/linear_model/coordinate_descent.py:492: ConvergenceWarning: Objective did not converge. You might want to increase the number of iterations. Fitting data with very small alpha may cause precision problems.\n",
      "  ConvergenceWarning)\n",
      "/home/user/anaconda3/lib/python3.7/site-packages/sklearn/linear_model/coordinate_descent.py:492: ConvergenceWarning: Objective did not converge. You might want to increase the number of iterations. Fitting data with very small alpha may cause precision problems.\n",
      "  ConvergenceWarning)\n",
      "/home/user/anaconda3/lib/python3.7/site-packages/sklearn/linear_model/coordinate_descent.py:492: ConvergenceWarning: Objective did not converge. You might want to increase the number of iterations. Fitting data with very small alpha may cause precision problems.\n",
      "  ConvergenceWarning)\n",
      "/home/user/anaconda3/lib/python3.7/site-packages/sklearn/linear_model/coordinate_descent.py:492: ConvergenceWarning: Objective did not converge. You might want to increase the number of iterations. Fitting data with very small alpha may cause precision problems.\n",
      "  ConvergenceWarning)\n",
      "/home/user/anaconda3/lib/python3.7/site-packages/sklearn/linear_model/coordinate_descent.py:492: ConvergenceWarning: Objective did not converge. You might want to increase the number of iterations. Fitting data with very small alpha may cause precision problems.\n",
      "  ConvergenceWarning)\n",
      "/home/user/anaconda3/lib/python3.7/site-packages/sklearn/linear_model/coordinate_descent.py:492: ConvergenceWarning: Objective did not converge. You might want to increase the number of iterations. Fitting data with very small alpha may cause precision problems.\n",
      "  ConvergenceWarning)\n",
      "/home/user/anaconda3/lib/python3.7/site-packages/sklearn/linear_model/coordinate_descent.py:492: ConvergenceWarning: Objective did not converge. You might want to increase the number of iterations. Fitting data with very small alpha may cause precision problems.\n",
      "  ConvergenceWarning)\n",
      "/home/user/anaconda3/lib/python3.7/site-packages/sklearn/linear_model/coordinate_descent.py:492: ConvergenceWarning: Objective did not converge. You might want to increase the number of iterations. Fitting data with very small alpha may cause precision problems.\n",
      "  ConvergenceWarning)\n",
      "/home/user/anaconda3/lib/python3.7/site-packages/sklearn/linear_model/coordinate_descent.py:492: ConvergenceWarning: Objective did not converge. You might want to increase the number of iterations. Fitting data with very small alpha may cause precision problems.\n",
      "  ConvergenceWarning)\n",
      "/home/user/anaconda3/lib/python3.7/site-packages/sklearn/linear_model/coordinate_descent.py:492: ConvergenceWarning: Objective did not converge. You might want to increase the number of iterations. Fitting data with very small alpha may cause precision problems.\n",
      "  ConvergenceWarning)\n",
      "/home/user/anaconda3/lib/python3.7/site-packages/sklearn/linear_model/coordinate_descent.py:492: ConvergenceWarning: Objective did not converge. You might want to increase the number of iterations. Fitting data with very small alpha may cause precision problems.\n",
      "  ConvergenceWarning)\n",
      "/home/user/anaconda3/lib/python3.7/site-packages/sklearn/linear_model/coordinate_descent.py:492: ConvergenceWarning: Objective did not converge. You might want to increase the number of iterations. Fitting data with very small alpha may cause precision problems.\n",
      "  ConvergenceWarning)\n",
      "/home/user/anaconda3/lib/python3.7/site-packages/sklearn/linear_model/coordinate_descent.py:492: ConvergenceWarning: Objective did not converge. You might want to increase the number of iterations. Fitting data with very small alpha may cause precision problems.\n",
      "  ConvergenceWarning)\n",
      "/home/user/anaconda3/lib/python3.7/site-packages/sklearn/linear_model/coordinate_descent.py:492: ConvergenceWarning: Objective did not converge. You might want to increase the number of iterations. Fitting data with very small alpha may cause precision problems.\n",
      "  ConvergenceWarning)\n",
      "/home/user/anaconda3/lib/python3.7/site-packages/sklearn/linear_model/coordinate_descent.py:492: ConvergenceWarning: Objective did not converge. You might want to increase the number of iterations. Fitting data with very small alpha may cause precision problems.\n",
      "  ConvergenceWarning)\n",
      "/home/user/anaconda3/lib/python3.7/site-packages/sklearn/linear_model/coordinate_descent.py:492: ConvergenceWarning: Objective did not converge. You might want to increase the number of iterations. Fitting data with very small alpha may cause precision problems.\n",
      "  ConvergenceWarning)\n",
      "/home/user/anaconda3/lib/python3.7/site-packages/sklearn/linear_model/coordinate_descent.py:492: ConvergenceWarning: Objective did not converge. You might want to increase the number of iterations. Fitting data with very small alpha may cause precision problems.\n",
      "  ConvergenceWarning)\n",
      "/home/user/anaconda3/lib/python3.7/site-packages/sklearn/linear_model/coordinate_descent.py:492: ConvergenceWarning: Objective did not converge. You might want to increase the number of iterations. Fitting data with very small alpha may cause precision problems.\n",
      "  ConvergenceWarning)\n",
      "/home/user/anaconda3/lib/python3.7/site-packages/sklearn/linear_model/coordinate_descent.py:492: ConvergenceWarning: Objective did not converge. You might want to increase the number of iterations. Fitting data with very small alpha may cause precision problems.\n",
      "  ConvergenceWarning)\n",
      "/home/user/anaconda3/lib/python3.7/site-packages/sklearn/linear_model/coordinate_descent.py:492: ConvergenceWarning: Objective did not converge. You might want to increase the number of iterations. Fitting data with very small alpha may cause precision problems.\n",
      "  ConvergenceWarning)\n",
      "/home/user/anaconda3/lib/python3.7/site-packages/sklearn/linear_model/coordinate_descent.py:492: ConvergenceWarning: Objective did not converge. You might want to increase the number of iterations. Fitting data with very small alpha may cause precision problems.\n",
      "  ConvergenceWarning)\n",
      "/home/user/anaconda3/lib/python3.7/site-packages/sklearn/linear_model/coordinate_descent.py:492: ConvergenceWarning: Objective did not converge. You might want to increase the number of iterations. Fitting data with very small alpha may cause precision problems.\n",
      "  ConvergenceWarning)\n",
      "/home/user/anaconda3/lib/python3.7/site-packages/sklearn/linear_model/coordinate_descent.py:492: ConvergenceWarning: Objective did not converge. You might want to increase the number of iterations. Fitting data with very small alpha may cause precision problems.\n",
      "  ConvergenceWarning)\n",
      "/home/user/anaconda3/lib/python3.7/site-packages/sklearn/linear_model/coordinate_descent.py:492: ConvergenceWarning: Objective did not converge. You might want to increase the number of iterations. Fitting data with very small alpha may cause precision problems.\n",
      "  ConvergenceWarning)\n",
      "/home/user/anaconda3/lib/python3.7/site-packages/sklearn/linear_model/coordinate_descent.py:492: ConvergenceWarning: Objective did not converge. You might want to increase the number of iterations. Fitting data with very small alpha may cause precision problems.\n",
      "  ConvergenceWarning)\n",
      "/home/user/anaconda3/lib/python3.7/site-packages/sklearn/linear_model/coordinate_descent.py:492: ConvergenceWarning: Objective did not converge. You might want to increase the number of iterations. Fitting data with very small alpha may cause precision problems.\n",
      "  ConvergenceWarning)\n",
      "/home/user/anaconda3/lib/python3.7/site-packages/sklearn/linear_model/coordinate_descent.py:492: ConvergenceWarning: Objective did not converge. You might want to increase the number of iterations. Fitting data with very small alpha may cause precision problems.\n",
      "  ConvergenceWarning)\n",
      "/home/user/anaconda3/lib/python3.7/site-packages/sklearn/linear_model/coordinate_descent.py:492: ConvergenceWarning: Objective did not converge. You might want to increase the number of iterations. Fitting data with very small alpha may cause precision problems.\n",
      "  ConvergenceWarning)\n",
      "/home/user/anaconda3/lib/python3.7/site-packages/sklearn/linear_model/coordinate_descent.py:492: ConvergenceWarning: Objective did not converge. You might want to increase the number of iterations. Fitting data with very small alpha may cause precision problems.\n",
      "  ConvergenceWarning)\n",
      "/home/user/anaconda3/lib/python3.7/site-packages/sklearn/linear_model/coordinate_descent.py:492: ConvergenceWarning: Objective did not converge. You might want to increase the number of iterations. Fitting data with very small alpha may cause precision problems.\n",
      "  ConvergenceWarning)\n",
      "/home/user/anaconda3/lib/python3.7/site-packages/sklearn/linear_model/coordinate_descent.py:492: ConvergenceWarning: Objective did not converge. You might want to increase the number of iterations. Fitting data with very small alpha may cause precision problems.\n",
      "  ConvergenceWarning)\n",
      "/home/user/anaconda3/lib/python3.7/site-packages/sklearn/linear_model/coordinate_descent.py:492: ConvergenceWarning: Objective did not converge. You might want to increase the number of iterations. Fitting data with very small alpha may cause precision problems.\n",
      "  ConvergenceWarning)\n",
      "/home/user/anaconda3/lib/python3.7/site-packages/sklearn/linear_model/coordinate_descent.py:492: ConvergenceWarning: Objective did not converge. You might want to increase the number of iterations. Fitting data with very small alpha may cause precision problems.\n",
      "  ConvergenceWarning)\n",
      "/home/user/anaconda3/lib/python3.7/site-packages/sklearn/linear_model/coordinate_descent.py:492: ConvergenceWarning: Objective did not converge. You might want to increase the number of iterations. Fitting data with very small alpha may cause precision problems.\n",
      "  ConvergenceWarning)\n",
      "/home/user/anaconda3/lib/python3.7/site-packages/sklearn/linear_model/coordinate_descent.py:492: ConvergenceWarning: Objective did not converge. You might want to increase the number of iterations. Fitting data with very small alpha may cause precision problems.\n",
      "  ConvergenceWarning)\n",
      "/home/user/anaconda3/lib/python3.7/site-packages/sklearn/linear_model/coordinate_descent.py:492: ConvergenceWarning: Objective did not converge. You might want to increase the number of iterations. Fitting data with very small alpha may cause precision problems.\n",
      "  ConvergenceWarning)\n",
      "/home/user/anaconda3/lib/python3.7/site-packages/sklearn/linear_model/coordinate_descent.py:492: ConvergenceWarning: Objective did not converge. You might want to increase the number of iterations. Fitting data with very small alpha may cause precision problems.\n",
      "  ConvergenceWarning)\n",
      "/home/user/anaconda3/lib/python3.7/site-packages/sklearn/linear_model/coordinate_descent.py:492: ConvergenceWarning: Objective did not converge. You might want to increase the number of iterations. Fitting data with very small alpha may cause precision problems.\n",
      "  ConvergenceWarning)\n",
      "/home/user/anaconda3/lib/python3.7/site-packages/sklearn/linear_model/coordinate_descent.py:492: ConvergenceWarning: Objective did not converge. You might want to increase the number of iterations. Fitting data with very small alpha may cause precision problems.\n",
      "  ConvergenceWarning)\n",
      "/home/user/anaconda3/lib/python3.7/site-packages/sklearn/linear_model/coordinate_descent.py:492: ConvergenceWarning: Objective did not converge. You might want to increase the number of iterations. Fitting data with very small alpha may cause precision problems.\n",
      "  ConvergenceWarning)\n",
      "/home/user/anaconda3/lib/python3.7/site-packages/sklearn/linear_model/coordinate_descent.py:492: ConvergenceWarning: Objective did not converge. You might want to increase the number of iterations. Fitting data with very small alpha may cause precision problems.\n",
      "  ConvergenceWarning)\n",
      "/home/user/anaconda3/lib/python3.7/site-packages/sklearn/linear_model/coordinate_descent.py:492: ConvergenceWarning: Objective did not converge. You might want to increase the number of iterations. Fitting data with very small alpha may cause precision problems.\n",
      "  ConvergenceWarning)\n",
      "/home/user/anaconda3/lib/python3.7/site-packages/sklearn/linear_model/coordinate_descent.py:492: ConvergenceWarning: Objective did not converge. You might want to increase the number of iterations. Fitting data with very small alpha may cause precision problems.\n",
      "  ConvergenceWarning)\n",
      "/home/user/anaconda3/lib/python3.7/site-packages/sklearn/linear_model/coordinate_descent.py:492: ConvergenceWarning: Objective did not converge. You might want to increase the number of iterations. Fitting data with very small alpha may cause precision problems.\n",
      "  ConvergenceWarning)\n",
      "/home/user/anaconda3/lib/python3.7/site-packages/sklearn/linear_model/coordinate_descent.py:492: ConvergenceWarning: Objective did not converge. You might want to increase the number of iterations. Fitting data with very small alpha may cause precision problems.\n",
      "  ConvergenceWarning)\n",
      "/home/user/anaconda3/lib/python3.7/site-packages/sklearn/linear_model/coordinate_descent.py:492: ConvergenceWarning: Objective did not converge. You might want to increase the number of iterations. Fitting data with very small alpha may cause precision problems.\n",
      "  ConvergenceWarning)\n",
      "/home/user/anaconda3/lib/python3.7/site-packages/sklearn/linear_model/coordinate_descent.py:492: ConvergenceWarning: Objective did not converge. You might want to increase the number of iterations. Fitting data with very small alpha may cause precision problems.\n",
      "  ConvergenceWarning)\n",
      "/home/user/anaconda3/lib/python3.7/site-packages/sklearn/linear_model/coordinate_descent.py:492: ConvergenceWarning: Objective did not converge. You might want to increase the number of iterations. Fitting data with very small alpha may cause precision problems.\n",
      "  ConvergenceWarning)\n",
      "/home/user/anaconda3/lib/python3.7/site-packages/sklearn/linear_model/coordinate_descent.py:492: ConvergenceWarning: Objective did not converge. You might want to increase the number of iterations. Fitting data with very small alpha may cause precision problems.\n",
      "  ConvergenceWarning)\n",
      "/home/user/anaconda3/lib/python3.7/site-packages/sklearn/linear_model/coordinate_descent.py:492: ConvergenceWarning: Objective did not converge. You might want to increase the number of iterations. Fitting data with very small alpha may cause precision problems.\n",
      "  ConvergenceWarning)\n",
      "/home/user/anaconda3/lib/python3.7/site-packages/sklearn/linear_model/coordinate_descent.py:492: ConvergenceWarning: Objective did not converge. You might want to increase the number of iterations. Fitting data with very small alpha may cause precision problems.\n",
      "  ConvergenceWarning)\n",
      "/home/user/anaconda3/lib/python3.7/site-packages/sklearn/linear_model/coordinate_descent.py:492: ConvergenceWarning: Objective did not converge. You might want to increase the number of iterations. Fitting data with very small alpha may cause precision problems.\n",
      "  ConvergenceWarning)\n",
      "/home/user/anaconda3/lib/python3.7/site-packages/sklearn/linear_model/coordinate_descent.py:492: ConvergenceWarning: Objective did not converge. You might want to increase the number of iterations. Fitting data with very small alpha may cause precision problems.\n",
      "  ConvergenceWarning)\n",
      "/home/user/anaconda3/lib/python3.7/site-packages/sklearn/linear_model/coordinate_descent.py:492: ConvergenceWarning: Objective did not converge. You might want to increase the number of iterations. Fitting data with very small alpha may cause precision problems.\n",
      "  ConvergenceWarning)\n",
      "/home/user/anaconda3/lib/python3.7/site-packages/sklearn/linear_model/coordinate_descent.py:492: ConvergenceWarning: Objective did not converge. You might want to increase the number of iterations. Fitting data with very small alpha may cause precision problems.\n",
      "  ConvergenceWarning)\n",
      "/home/user/anaconda3/lib/python3.7/site-packages/sklearn/linear_model/coordinate_descent.py:492: ConvergenceWarning: Objective did not converge. You might want to increase the number of iterations. Fitting data with very small alpha may cause precision problems.\n",
      "  ConvergenceWarning)\n",
      "/home/user/anaconda3/lib/python3.7/site-packages/sklearn/linear_model/coordinate_descent.py:492: ConvergenceWarning: Objective did not converge. You might want to increase the number of iterations. Fitting data with very small alpha may cause precision problems.\n",
      "  ConvergenceWarning)\n",
      "/home/user/anaconda3/lib/python3.7/site-packages/sklearn/linear_model/coordinate_descent.py:492: ConvergenceWarning: Objective did not converge. You might want to increase the number of iterations. Fitting data with very small alpha may cause precision problems.\n",
      "  ConvergenceWarning)\n",
      "/home/user/anaconda3/lib/python3.7/site-packages/sklearn/linear_model/coordinate_descent.py:492: ConvergenceWarning: Objective did not converge. You might want to increase the number of iterations. Fitting data with very small alpha may cause precision problems.\n",
      "  ConvergenceWarning)\n",
      "/home/user/anaconda3/lib/python3.7/site-packages/sklearn/linear_model/coordinate_descent.py:492: ConvergenceWarning: Objective did not converge. You might want to increase the number of iterations. Fitting data with very small alpha may cause precision problems.\n",
      "  ConvergenceWarning)\n",
      "/home/user/anaconda3/lib/python3.7/site-packages/sklearn/linear_model/coordinate_descent.py:492: ConvergenceWarning: Objective did not converge. You might want to increase the number of iterations. Fitting data with very small alpha may cause precision problems.\n",
      "  ConvergenceWarning)\n",
      "/home/user/anaconda3/lib/python3.7/site-packages/sklearn/linear_model/coordinate_descent.py:492: ConvergenceWarning: Objective did not converge. You might want to increase the number of iterations. Fitting data with very small alpha may cause precision problems.\n",
      "  ConvergenceWarning)\n",
      "/home/user/anaconda3/lib/python3.7/site-packages/sklearn/linear_model/coordinate_descent.py:492: ConvergenceWarning: Objective did not converge. You might want to increase the number of iterations. Fitting data with very small alpha may cause precision problems.\n",
      "  ConvergenceWarning)\n",
      "/home/user/anaconda3/lib/python3.7/site-packages/sklearn/linear_model/coordinate_descent.py:492: ConvergenceWarning: Objective did not converge. You might want to increase the number of iterations. Fitting data with very small alpha may cause precision problems.\n",
      "  ConvergenceWarning)\n",
      "/home/user/anaconda3/lib/python3.7/site-packages/sklearn/linear_model/coordinate_descent.py:492: ConvergenceWarning: Objective did not converge. You might want to increase the number of iterations. Fitting data with very small alpha may cause precision problems.\n",
      "  ConvergenceWarning)\n",
      "/home/user/anaconda3/lib/python3.7/site-packages/sklearn/linear_model/coordinate_descent.py:492: ConvergenceWarning: Objective did not converge. You might want to increase the number of iterations. Fitting data with very small alpha may cause precision problems.\n",
      "  ConvergenceWarning)\n",
      "/home/user/anaconda3/lib/python3.7/site-packages/sklearn/linear_model/coordinate_descent.py:492: ConvergenceWarning: Objective did not converge. You might want to increase the number of iterations. Fitting data with very small alpha may cause precision problems.\n",
      "  ConvergenceWarning)\n",
      "/home/user/anaconda3/lib/python3.7/site-packages/sklearn/linear_model/coordinate_descent.py:492: ConvergenceWarning: Objective did not converge. You might want to increase the number of iterations. Fitting data with very small alpha may cause precision problems.\n",
      "  ConvergenceWarning)\n",
      "/home/user/anaconda3/lib/python3.7/site-packages/sklearn/linear_model/coordinate_descent.py:492: ConvergenceWarning: Objective did not converge. You might want to increase the number of iterations. Fitting data with very small alpha may cause precision problems.\n",
      "  ConvergenceWarning)\n",
      "/home/user/anaconda3/lib/python3.7/site-packages/sklearn/linear_model/coordinate_descent.py:492: ConvergenceWarning: Objective did not converge. You might want to increase the number of iterations. Fitting data with very small alpha may cause precision problems.\n",
      "  ConvergenceWarning)\n",
      "/home/user/anaconda3/lib/python3.7/site-packages/sklearn/linear_model/coordinate_descent.py:492: ConvergenceWarning: Objective did not converge. You might want to increase the number of iterations. Fitting data with very small alpha may cause precision problems.\n",
      "  ConvergenceWarning)\n",
      "/home/user/anaconda3/lib/python3.7/site-packages/sklearn/linear_model/coordinate_descent.py:492: ConvergenceWarning: Objective did not converge. You might want to increase the number of iterations. Fitting data with very small alpha may cause precision problems.\n",
      "  ConvergenceWarning)\n",
      "/home/user/anaconda3/lib/python3.7/site-packages/sklearn/linear_model/coordinate_descent.py:492: ConvergenceWarning: Objective did not converge. You might want to increase the number of iterations. Fitting data with very small alpha may cause precision problems.\n",
      "  ConvergenceWarning)\n",
      "/home/user/anaconda3/lib/python3.7/site-packages/sklearn/linear_model/coordinate_descent.py:492: ConvergenceWarning: Objective did not converge. You might want to increase the number of iterations. Fitting data with very small alpha may cause precision problems.\n",
      "  ConvergenceWarning)\n",
      "/home/user/anaconda3/lib/python3.7/site-packages/sklearn/linear_model/coordinate_descent.py:492: ConvergenceWarning: Objective did not converge. You might want to increase the number of iterations. Fitting data with very small alpha may cause precision problems.\n",
      "  ConvergenceWarning)\n",
      "/home/user/anaconda3/lib/python3.7/site-packages/sklearn/linear_model/coordinate_descent.py:492: ConvergenceWarning: Objective did not converge. You might want to increase the number of iterations. Fitting data with very small alpha may cause precision problems.\n",
      "  ConvergenceWarning)\n",
      "/home/user/anaconda3/lib/python3.7/site-packages/sklearn/linear_model/coordinate_descent.py:492: ConvergenceWarning: Objective did not converge. You might want to increase the number of iterations. Fitting data with very small alpha may cause precision problems.\n",
      "  ConvergenceWarning)\n",
      "/home/user/anaconda3/lib/python3.7/site-packages/sklearn/linear_model/coordinate_descent.py:492: ConvergenceWarning: Objective did not converge. You might want to increase the number of iterations. Fitting data with very small alpha may cause precision problems.\n",
      "  ConvergenceWarning)\n",
      "/home/user/anaconda3/lib/python3.7/site-packages/sklearn/linear_model/coordinate_descent.py:492: ConvergenceWarning: Objective did not converge. You might want to increase the number of iterations. Fitting data with very small alpha may cause precision problems.\n",
      "  ConvergenceWarning)\n"
     ]
    },
    {
     "name": "stdout",
     "output_type": "stream",
     "text": [
      "[[ 0.00000000e+00 -7.40316704e+01 -4.22598665e+01 ... -9.52516397e-04\n",
      "   7.04789186e-04  9.06306371e-06]\n",
      " [ 0.00000000e+00 -7.06402004e+01 -4.07463015e+01 ... -9.46072301e-04\n",
      "   6.87078350e-04  5.70245711e-06]\n",
      " [ 0.00000000e+00 -6.72875303e+01 -3.92348448e+01 ... -9.38556071e-04\n",
      "   6.69577333e-04  2.35031835e-06]\n",
      " ...\n",
      " [ 0.00000000e+00 -0.00000000e+00 -0.00000000e+00 ...  9.75762222e-04\n",
      "   4.43291975e-04 -8.04274060e-05]\n",
      " [ 0.00000000e+00 -0.00000000e+00 -0.00000000e+00 ...  9.90984682e-04\n",
      "   4.44735956e-04 -8.02144841e-05]\n",
      " [ 0.00000000e+00 -0.00000000e+00 -0.00000000e+00 ...  1.00620906e-03\n",
      "   4.46180661e-04 -8.00013116e-05]]\n",
      "10\n",
      "10\n",
      "10\n",
      "9\n",
      "10\n",
      "10\n",
      "10\n",
      "10\n",
      "10\n",
      "10\n",
      "10\n",
      "10\n",
      "9\n",
      "9\n",
      "9\n",
      "10\n",
      "10\n",
      "10\n",
      "10\n",
      "10\n",
      "10\n",
      "10\n",
      "10\n",
      "10\n",
      "10\n",
      "10\n",
      "10\n",
      "10\n",
      "10\n",
      "10\n",
      "9\n",
      "9\n",
      "9\n",
      "9\n",
      "9\n",
      "8\n",
      "8\n",
      "8\n",
      "8\n",
      "8\n",
      "8\n",
      "8\n",
      "8\n",
      "8\n",
      "8\n",
      "8\n",
      "8\n",
      "8\n",
      "8\n",
      "8\n",
      "8\n",
      "8\n",
      "8\n",
      "8\n",
      "8\n",
      "8\n",
      "8\n",
      "8\n",
      "8\n",
      "8\n",
      "8\n",
      "8\n",
      "8\n",
      "8\n",
      "8\n",
      "8\n",
      "8\n",
      "8\n",
      "8\n",
      "8\n",
      "8\n",
      "8\n",
      "8\n",
      "8\n",
      "8\n",
      "8\n",
      "8\n",
      "8\n",
      "8\n",
      "8\n",
      "8\n",
      "8\n",
      "8\n",
      "8\n",
      "8\n",
      "8\n",
      "8\n",
      "8\n",
      "8\n",
      "8\n",
      "8\n",
      "8\n",
      "8\n",
      "8\n",
      "8\n",
      "8\n",
      "8\n",
      "8\n",
      "8\n",
      "8\n"
     ]
    },
    {
     "name": "stderr",
     "output_type": "stream",
     "text": [
      "/home/user/anaconda3/lib/python3.7/site-packages/sklearn/linear_model/coordinate_descent.py:492: ConvergenceWarning: Objective did not converge. You might want to increase the number of iterations. Fitting data with very small alpha may cause precision problems.\n",
      "  ConvergenceWarning)\n",
      "/home/user/anaconda3/lib/python3.7/site-packages/sklearn/linear_model/coordinate_descent.py:492: ConvergenceWarning: Objective did not converge. You might want to increase the number of iterations. Fitting data with very small alpha may cause precision problems.\n",
      "  ConvergenceWarning)\n",
      "/home/user/anaconda3/lib/python3.7/site-packages/sklearn/linear_model/coordinate_descent.py:492: ConvergenceWarning: Objective did not converge. You might want to increase the number of iterations. Fitting data with very small alpha may cause precision problems.\n",
      "  ConvergenceWarning)\n",
      "/home/user/anaconda3/lib/python3.7/site-packages/sklearn/linear_model/coordinate_descent.py:492: ConvergenceWarning: Objective did not converge. You might want to increase the number of iterations. Fitting data with very small alpha may cause precision problems.\n",
      "  ConvergenceWarning)\n",
      "/home/user/anaconda3/lib/python3.7/site-packages/sklearn/linear_model/coordinate_descent.py:492: ConvergenceWarning: Objective did not converge. You might want to increase the number of iterations. Fitting data with very small alpha may cause precision problems.\n",
      "  ConvergenceWarning)\n",
      "/home/user/anaconda3/lib/python3.7/site-packages/sklearn/linear_model/coordinate_descent.py:492: ConvergenceWarning: Objective did not converge. You might want to increase the number of iterations. Fitting data with very small alpha may cause precision problems.\n",
      "  ConvergenceWarning)\n",
      "/home/user/anaconda3/lib/python3.7/site-packages/sklearn/linear_model/coordinate_descent.py:492: ConvergenceWarning: Objective did not converge. You might want to increase the number of iterations. Fitting data with very small alpha may cause precision problems.\n",
      "  ConvergenceWarning)\n",
      "/home/user/anaconda3/lib/python3.7/site-packages/sklearn/linear_model/coordinate_descent.py:492: ConvergenceWarning: Objective did not converge. You might want to increase the number of iterations. Fitting data with very small alpha may cause precision problems.\n",
      "  ConvergenceWarning)\n",
      "/home/user/anaconda3/lib/python3.7/site-packages/sklearn/linear_model/coordinate_descent.py:492: ConvergenceWarning: Objective did not converge. You might want to increase the number of iterations. Fitting data with very small alpha may cause precision problems.\n",
      "  ConvergenceWarning)\n",
      "/home/user/anaconda3/lib/python3.7/site-packages/sklearn/linear_model/coordinate_descent.py:492: ConvergenceWarning: Objective did not converge. You might want to increase the number of iterations. Fitting data with very small alpha may cause precision problems.\n",
      "  ConvergenceWarning)\n",
      "/home/user/anaconda3/lib/python3.7/site-packages/sklearn/linear_model/coordinate_descent.py:492: ConvergenceWarning: Objective did not converge. You might want to increase the number of iterations. Fitting data with very small alpha may cause precision problems.\n",
      "  ConvergenceWarning)\n",
      "/home/user/anaconda3/lib/python3.7/site-packages/sklearn/linear_model/coordinate_descent.py:492: ConvergenceWarning: Objective did not converge. You might want to increase the number of iterations. Fitting data with very small alpha may cause precision problems.\n",
      "  ConvergenceWarning)\n"
     ]
    }
   ],
   "source": [
    "from sklearn import linear_model\n",
    "\n",
    "X = make_instances(-5, 5, 50)\n",
    "y = make_labels(X, f, 200)\n",
    "\n",
    "X_train, X_test, y_train, y_test = train_test_split(X, y, test_size=0.5)\n",
    "poly = PolynomialFeatures(10)\n",
    "FI = poly.fit_transform(X_train)\n",
    "FI_test = poly.fit_transform(X_test)\n",
    "\n",
    "I = np.identity(11)\n",
    "I[0][0] = 0\n",
    "\n",
    "L1 = []\n",
    "    \n",
    "for lam in range(1, 101):\n",
    "    clf = linear_model.Lasso(alpha=lam).fit(FI, y_train)\n",
    "    L1.append(clf.coef_)\n",
    "print(np.array(L1))\n",
    "\n",
    "for array in np.array(L1):\n",
    "    print(nonzeroes(array))"
   ]
  },
  {
   "cell_type": "markdown",
   "metadata": {},
   "source": [
    "### 7. Značajke različitih skala"
   ]
  },
  {
   "cell_type": "markdown",
   "metadata": {},
   "source": [
    "Često se u praksi možemo susreti sa podatcima u kojima sve značajke nisu jednakih magnituda. Primjer jednog takvog skupa je regresijski skup podataka `grades` u kojem se predviđa prosjek ocjena studenta na studiju (1--5) na temelju dvije značajke: bodova na prijamnom ispitu (1--3000) i prosjeka ocjena u srednjoj školi. Prosjek ocjena na studiju izračunat je kao težinska suma ove dvije značajke uz dodani šum.\n",
    "\n",
    "Koristite sljedeći kôd kako biste generirali ovaj skup podataka."
   ]
  },
  {
   "cell_type": "code",
   "execution_count": 126,
   "metadata": {},
   "outputs": [],
   "source": [
    "n_data_points = 500\n",
    "np.random.seed(69)\n",
    "\n",
    "# Generiraj podatke o bodovima na prijamnom ispitu koristeći normalnu razdiobu i ograniči ih na interval [1, 3000].\n",
    "exam_score = np.random.normal(loc=1500.0, scale = 500.0, size = n_data_points) \n",
    "exam_score = np.round(exam_score)\n",
    "exam_score[exam_score > 3000] = 3000\n",
    "exam_score[exam_score < 0] = 0\n",
    "\n",
    "# Generiraj podatke o ocjenama iz srednje škole koristeći normalnu razdiobu i ograniči ih na interval [1, 5].\n",
    "grade_in_highschool = np.random.normal(loc=3, scale = 2.0, size = n_data_points)\n",
    "grade_in_highschool[grade_in_highschool > 5] = 5\n",
    "grade_in_highschool[grade_in_highschool < 1] = 1\n",
    "\n",
    "# Matrica dizajna.\n",
    "grades_X = np.array([exam_score,grade_in_highschool]).T\n",
    "\n",
    "# Završno, generiraj izlazne vrijednosti.\n",
    "rand_noise = np.random.normal(loc=0.0, scale = 0.5, size = n_data_points)\n",
    "exam_influence = 0.9\n",
    "grades_y = ((exam_score / 3000.0) * (exam_influence) + (grade_in_highschool / 5.0) \\\n",
    "            * (1.0 - exam_influence)) * 5.0 + rand_noise\n",
    "grades_y[grades_y < 1] = 1\n",
    "grades_y[grades_y > 5] = 5"
   ]
  },
  {
   "cell_type": "markdown",
   "metadata": {},
   "source": [
    "**a)** Iscrtajte ovisnost ciljne vrijednosti (y-os) o prvoj i o drugoj značajki (x-os). Iscrtajte dva odvojena grafa."
   ]
  },
  {
   "cell_type": "code",
   "execution_count": 140,
   "metadata": {},
   "outputs": [
    {
     "data": {
      "image/png": "[encoded data removed]",
      "text/plain": [
       "<Figure size 432x288 with 1 Axes>"
      ]
     },
     "metadata": {
      "needs_background": "light"
     },
     "output_type": "display_data"
    },
    {
     "data": {
      "image/png": "[encoded data removed]",
      "text/plain": [
       "<Figure size 432x288 with 1 Axes>"
      ]
     },
     "metadata": {
      "needs_background": "light"
     },
     "output_type": "display_data"
    }
   ],
   "source": [
    "plt.title(\"exam\")\n",
    "plt.scatter(exam_score, grades_y)\n",
    "show()\n",
    "plt.title(\"grades\")\n",
    "plt.scatter(grade_in_highschool, grades_y)\n",
    "show()"
   ]
  },
  {
   "cell_type": "markdown",
   "metadata": {},
   "source": [
    "**b)** Naučite model L2-regularizirane regresije ($\\lambda = 0.01$), na podacima `grades_X` i `grades_y`:"
   ]
  },
  {
   "cell_type": "code",
   "execution_count": 157,
   "metadata": {},
   "outputs": [
    {
     "name": "stdout",
     "output_type": "stream",
     "text": [
      "[0.00141497 0.09477276]\n",
      "0.15061179575776018\n",
      "Pogreška: 0.23990435033172808\n"
     ]
    }
   ],
   "source": [
    "regression = Ridge(0.01).fit(grades_X, grades_y)\n",
    "print(regression.coef_)\n",
    "print(regression.intercept_)\n",
    "y_predict = regression.predict(grades_X)\n",
    "\n",
    "E = mean_squared_error(grades_y, y_predict)\n",
    "print(\"Pogreška: {}\".format(E))"
   ]
  },
  {
   "cell_type": "markdown",
   "metadata": {},
   "source": [
    "Sada ponovite gornji eksperiment, ali prvo skalirajte podatke `grades_X` i `grades_y` i spremite ih u varijable `grades_X_fixed` i `grades_y_fixed`. Za tu svrhu, koristite [`StandardScaler`](http://scikit-learn.org/stable/modules/generated/sklearn.preprocessing.StandardScaler.html)."
   ]
  },
  {
   "cell_type": "code",
   "execution_count": 161,
   "metadata": {},
   "outputs": [],
   "source": [
    "from sklearn.preprocessing import StandardScaler"
   ]
  },
  {
   "cell_type": "code",
   "execution_count": 171,
   "metadata": {},
   "outputs": [
    {
     "name": "stdout",
     "output_type": "stream",
     "text": [
      "(500, 2)\n",
      "[0.73954683 0.13741539]\n",
      "2.5030316359918503\n",
      "Pogreška: 0.23990435055153114\n"
     ]
    }
   ],
   "source": [
    "scaler = StandardScaler()\n",
    "grades_X_fixed = scaler.fit_transform(grades_X, grades_y)\n",
    "print(shape(grades_X_fixed))\n",
    "\n",
    "#grades_X_fixed = scaler.transform(grades_X)\n",
    "#grades_y_fixed = scaler.transform(grades_y)\n",
    "\n",
    "regression = Ridge(0.01).fit(grades_X_fixed, grades_y)\n",
    "print(regression.coef_)\n",
    "print(regression.intercept_)\n",
    "y_predict = regression.predict(grades_X_fixed)\n",
    "\n",
    "E = mean_squared_error(grades_y, y_predict)\n",
    "print(\"Pogreška: {}\".format(E))"
   ]
  },
  {
   "cell_type": "markdown",
   "metadata": {},
   "source": [
    "**Q:** Gledajući grafikone iz podzadatka (a), koja značajka bi trebala imati veću magnitudu, odnosno važnost pri predikciji prosjeka na studiju? Odgovaraju li težine Vašoj intuiciji? Objasnite.  "
   ]
  },
  {
   "cell_type": "markdown",
   "metadata": {},
   "source": [
    "### 8. Multikolinearnost i kondicija matrice"
   ]
  },
  {
   "cell_type": "markdown",
   "metadata": {},
   "source": [
    "**a)** Izradite skup podataka `grades_X_fixed_colinear` tako što ćete u skupu `grades_X_fixed` iz\n",
    "zadatka *7b* duplicirati zadnji stupac (ocjenu iz srednje škole). Time smo efektivno uveli savršenu multikolinearnost."
   ]
  },
  {
   "cell_type": "code",
   "execution_count": 184,
   "metadata": {},
   "outputs": [
    {
     "name": "stdout",
     "output_type": "stream",
     "text": [
      "(500, 3)\n"
     ]
    }
   ],
   "source": [
    "\n",
    "grades_X_fixed_colinear = np.delete(np.append(grades_X_fixed, grades_X_fixed, axis=1), -1, axis=1)\n",
    "print(shape(grades_X_fixed_colinear))"
   ]
  },
  {
   "cell_type": "markdown",
   "metadata": {},
   "source": [
    "Ponovno, naučite na ovom skupu L2-regularizirani model regresije ($\\lambda = 0.01$)."
   ]
  },
  {
   "cell_type": "code",
   "execution_count": 190,
   "metadata": {},
   "outputs": [
    {
     "name": "stdout",
     "output_type": "stream",
     "text": [
      "[0.36977713 0.13741484 0.36977713]\n",
      "2.5030316359918503\n",
      "(500, 3)\n",
      "Pogreška: 0.2399043503895747\n"
     ]
    }
   ],
   "source": [
    "regression = Ridge(0.01).fit(grades_X_fixed_colinear, grades_y)\n",
    "print(regression.coef_)\n",
    "print(regression.intercept_)\n",
    "y_predict = regression.predict(grades_X_fixed_colinear)\n",
    "\n",
    "E = mean_squared_error(grades_y, y_predict)\n",
    "print(\"Pogreška: {}\".format(E))"
   ]
  },
  {
   "cell_type": "markdown",
   "metadata": {},
   "source": [
    "**Q:** Usporedite iznose težina s onima koje ste dobili u zadatku *7b*. Što se dogodilo?"
   ]
  },
  {
   "cell_type": "markdown",
   "metadata": {},
   "source": [
    "**b)** Slučajno uzorkujte 50% elemenata iz skupa `grades_X_fixed_colinear` i naučite dva modela L2-regularizirane regresije, jedan s $\\lambda=0.01$ i jedan s $\\lambda=1000$). Ponovite ovaj pokus 10 puta (svaki put s drugim podskupom od 50% elemenata).  Za svaki model, ispišite dobiveni vektor težina u svih 10 ponavljanja te ispišite standardnu devijaciju vrijednosti svake od težina (ukupno šest standardnih devijacija, svaka dobivena nad 10 vrijednosti)."
   ]
  },
  {
   "cell_type": "code",
   "execution_count": 207,
   "metadata": {},
   "outputs": [
    {
     "name": "stdout",
     "output_type": "stream",
     "text": [
      "\n",
      "0.iteracija\n",
      "Lambda = 0.01\n",
      "[0.36635841 0.16313917 0.36635841]\n",
      "2.4716185278192278\n",
      "Lambda = 1000\n",
      "[0.1371133  0.03956257 0.1371133 ]\n",
      "2.502048205287948\n",
      "\n",
      "1.iteracija\n",
      "Lambda = 0.01\n",
      "[0.37356107 0.11127551 0.37356107]\n",
      "2.477827303585464\n",
      "Lambda = 1000\n",
      "[0.12890837 0.03546577 0.12890837]\n",
      "2.5368140435660957\n",
      "\n",
      "2.iteracija\n",
      "Lambda = 0.01\n",
      "[0.3620645  0.13456296 0.3620645 ]\n",
      "2.501272586981091\n",
      "Lambda = 1000\n",
      "[0.13294766 0.03531428 0.13294766]\n",
      "2.5048179346023\n",
      "\n",
      "3.iteracija\n",
      "Lambda = 0.01\n",
      "[0.36800576 0.14730402 0.36800576]\n",
      "2.483956155440156\n",
      "Lambda = 1000\n",
      "[0.1189275  0.03754156 0.1189275 ]\n",
      "2.548111021682159\n",
      "\n",
      "4.iteracija\n",
      "Lambda = 0.01\n",
      "[0.35550276 0.14302242 0.35550276]\n",
      "2.499115848243948\n",
      "Lambda = 1000\n",
      "[0.13403697 0.03408403 0.13403697]\n",
      "2.4877072101742366\n",
      "\n",
      "5.iteracija\n",
      "Lambda = 0.01\n",
      "[0.3670187  0.11446298 0.3670187 ]\n",
      "2.4917924151067945\n",
      "Lambda = 1000\n",
      "[0.12981882 0.03864355 0.12981882]\n",
      "2.520195617963512\n",
      "\n",
      "6.iteracija\n",
      "Lambda = 0.01\n",
      "[0.37640153 0.14731138 0.37640153]\n",
      "2.4838826570892283\n",
      "Lambda = 1000\n",
      "[0.12073707 0.03049197 0.12073707]\n",
      "2.485296308185752\n",
      "\n",
      "7.iteracija\n",
      "Lambda = 0.01\n",
      "[0.3658892  0.15101903 0.3658892 ]\n",
      "2.4726527125678994\n",
      "Lambda = 1000\n",
      "[0.12981814 0.03591533 0.12981814]\n",
      "2.523529507983417\n",
      "\n",
      "8.iteracija\n",
      "Lambda = 0.01\n",
      "[0.35723027 0.13069487 0.35723027]\n",
      "2.4617797104327055\n",
      "Lambda = 1000\n",
      "[0.12488926 0.03195386 0.12488926]\n",
      "2.5507911775147285\n",
      "\n",
      "9.iteracija\n",
      "Lambda = 0.01\n",
      "[0.35453758 0.16235185 0.35453758]\n",
      "2.5119160130646674\n",
      "Lambda = 1000\n",
      "[0.12014695 0.03401916 0.12014695]\n",
      "2.5032925074992507\n",
      "\n",
      "\n",
      "Standardne devijacije:\n",
      "0.007352259480198253\n",
      "0.017836046159485804\n",
      "0.007352259479273983\n",
      "0.006299183413400372\n",
      "0.0028326001805129074\n",
      "0.006299183413400371\n"
     ]
    }
   ],
   "source": [
    "from statistics import stdev \n",
    "stDev = [[], [], [], [], [], []]\n",
    "for i in range(10):\n",
    "    print(\"\\n{}.iteracija\".format(i))\n",
    "    grades_X_1, grades_X_2, grades_y_1, grades_y_2 = train_test_split(grades_X_fixed_colinear, grades_y, test_size=0.5)\n",
    "    regression1 = Ridge(0.01).fit(grades_X_1, grades_y_1)\n",
    "    regression2 = Ridge(1000).fit(grades_X_2, grades_y_2)\n",
    "    \n",
    "    print(\"Lambda = 0.01\")\n",
    "    print(regression1.coef_)\n",
    "    print(regression1.intercept_)\n",
    "    stDev[0].append(regression1.coef_[0])\n",
    "    stDev[1].append(regression1.coef_[1])\n",
    "    stDev[2].append(regression1.coef_[2])\n",
    "    \n",
    "    print(\"Lambda = 1000\")\n",
    "    print(regression2.coef_)\n",
    "    print(regression2.intercept_)\n",
    "    stDev[3].append(regression2.coef_[0])\n",
    "    stDev[4].append(regression2.coef_[1])\n",
    "    stDev[5].append(regression2.coef_[2])\n",
    "    \n",
    "print(\"\\n\\nStandardne devijacije:\")\n",
    "for array in stDev:\n",
    "    print(stdev(array))\n",
    "    \n"
   ]
  },
  {
   "cell_type": "markdown",
   "metadata": {},
   "source": [
    "**Q:** Kako regularizacija utječe na stabilnost težina?  \n",
    "**Q:** Jesu li koeficijenti jednakih magnituda kao u prethodnom pokusu? Objasnite zašto."
   ]
  },
  {
   "cell_type": "markdown",
   "metadata": {},
   "source": [
    "**c)** Koristeći [`numpy.linalg.cond`](https://docs.scipy.org/doc/numpy-1.13.0/reference/generated/numpy.linalg.cond.html) izračunajte kondicijski broj matrice $\\mathbf{\\Phi}^\\intercal\\mathbf{\\Phi}+\\lambda\\mathbf{I}$, gdje je $\\mathbf{\\Phi}$ matrica dizajna (`grades_X_fixed_colinear`). Ponovite i za $\\lambda=0.01$ i za $\\lambda=10$.\n"
   ]
  },
  {
   "cell_type": "code",
   "execution_count": 195,
   "metadata": {},
   "outputs": [
    {
     "name": "stdout",
     "output_type": "stream",
     "text": [
      "100542.86653385364\n",
      "101.54186653499319\n"
     ]
    }
   ],
   "source": [
    "matrica = matmul(grades_X_fixed_colinear.transpose(), grades_X_fixed_colinear) + np.dot(0.01, np.identity(shape(grades_X_fixed_colinear)[1]))\n",
    "print(np.linalg.cond(matrica))\n",
    "\n",
    "matrica = matmul(grades_X_fixed_colinear.transpose(), grades_X_fixed_colinear) + np.dot(10, np.identity(shape(grades_X_fixed_colinear)[1]))\n",
    "print(np.linalg.cond(matrica))\n"
   ]
  },
  {
   "cell_type": "markdown",
   "metadata": {},
   "source": [
    "**Q:** Kako regularizacija utječe na kondicijski broj matrice $\\mathbf{\\Phi}^\\intercal\\mathbf{\\Phi}+\\lambda\\mathbf{I}$?  "
   ]
  }
 ],
 "metadata": {
  "anaconda-cloud": {},
  "kernelspec": {
   "display_name": "Python 3",
   "language": "python",
   "name": "python3"
  },
  "language_info": {
   "codemirror_mode": {
    "name": "ipython",
    "version": 3
   },
   "file_extension": ".py",
   "mimetype": "text/x-python",
   "name": "python",
   "nbconvert_exporter": "python",
   "pygments_lexer": "ipython3",
   "version": "3.7.1"
  }
 },
 "nbformat": 4,
 "nbformat_minor": 1
}
